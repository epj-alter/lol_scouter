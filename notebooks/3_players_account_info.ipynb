{
 "cells": [
  {
   "cell_type": "markdown",
   "metadata": {},
   "source": [
    "# Players account info handler"
   ]
  },
  {
   "cell_type": "code",
   "execution_count": 1,
   "metadata": {},
   "outputs": [],
   "source": [
    "import time\n",
    "\n",
    "from itertools import chain\n",
    "\n",
    "import requests as req\n",
    "import pandas as pd\n",
    "import numpy as np\n",
    "\n",
    "from settings import TOKEN"
   ]
  },
  {
   "cell_type": "markdown",
   "metadata": {},
   "source": [
    "## Goal\n",
    "Retrieve the account_id from the players account info becuase with it we can start retrieving the match history of each player"
   ]
  },
  {
   "cell_type": "markdown",
   "metadata": {},
   "source": [
    "## 1. Import players pool data"
   ]
  },
  {
   "cell_type": "code",
   "execution_count": 2,
   "metadata": {},
   "outputs": [
    {
     "data": {
      "text/html": [
       "<div>\n",
       "<style scoped>\n",
       "    .dataframe tbody tr th:only-of-type {\n",
       "        vertical-align: middle;\n",
       "    }\n",
       "\n",
       "    .dataframe tbody tr th {\n",
       "        vertical-align: top;\n",
       "    }\n",
       "\n",
       "    .dataframe thead th {\n",
       "        text-align: right;\n",
       "    }\n",
       "</style>\n",
       "<table border=\"1\" class=\"dataframe\">\n",
       "  <thead>\n",
       "    <tr style=\"text-align: right;\">\n",
       "      <th></th>\n",
       "      <th>tier</th>\n",
       "      <th>rank</th>\n",
       "      <th>summonerId</th>\n",
       "      <th>summonerName</th>\n",
       "      <th>leaguePoints</th>\n",
       "      <th>wins</th>\n",
       "      <th>losses</th>\n",
       "    </tr>\n",
       "  </thead>\n",
       "  <tbody>\n",
       "    <tr>\n",
       "      <th>0</th>\n",
       "      <td>DIAMOND</td>\n",
       "      <td>I</td>\n",
       "      <td>rvTHik0BLi0tKf0oBNH1LB-MrXNHgTYTIJp_xM9Jl22xfFpp</td>\n",
       "      <td>Meiran</td>\n",
       "      <td>90</td>\n",
       "      <td>200</td>\n",
       "      <td>187</td>\n",
       "    </tr>\n",
       "    <tr>\n",
       "      <th>1</th>\n",
       "      <td>DIAMOND</td>\n",
       "      <td>I</td>\n",
       "      <td>Q1MxBiPaWxpvLUOcHTyUTGIRLoOsQ0pPW2GXJpFzlShKg4J_</td>\n",
       "      <td>Preciöus</td>\n",
       "      <td>0</td>\n",
       "      <td>101</td>\n",
       "      <td>79</td>\n",
       "    </tr>\n",
       "    <tr>\n",
       "      <th>2</th>\n",
       "      <td>DIAMOND</td>\n",
       "      <td>I</td>\n",
       "      <td>UHd2YrByzhM458uxwF_sR5saxARizi-quOa-S30OmFH41Or8</td>\n",
       "      <td>ˆˇˇˆˇˇˆ</td>\n",
       "      <td>52</td>\n",
       "      <td>160</td>\n",
       "      <td>146</td>\n",
       "    </tr>\n",
       "    <tr>\n",
       "      <th>3</th>\n",
       "      <td>DIAMOND</td>\n",
       "      <td>I</td>\n",
       "      <td>JbkMW-xXj99fD7CesxP-4Q7HTbTVw_DjEAXhMuPMGqj1xEZt</td>\n",
       "      <td>Huskigodx</td>\n",
       "      <td>3</td>\n",
       "      <td>264</td>\n",
       "      <td>261</td>\n",
       "    </tr>\n",
       "    <tr>\n",
       "      <th>4</th>\n",
       "      <td>DIAMOND</td>\n",
       "      <td>I</td>\n",
       "      <td>2RiE8ql63iwtSSYQYA_f84PtrCX_js2FrAWlOJfI4Wm83uES</td>\n",
       "      <td>Ghiosu</td>\n",
       "      <td>30</td>\n",
       "      <td>448</td>\n",
       "      <td>434</td>\n",
       "    </tr>\n",
       "  </tbody>\n",
       "</table>\n",
       "</div>"
      ],
      "text/plain": [
       "      tier rank                                        summonerId  \\\n",
       "0  DIAMOND    I  rvTHik0BLi0tKf0oBNH1LB-MrXNHgTYTIJp_xM9Jl22xfFpp   \n",
       "1  DIAMOND    I  Q1MxBiPaWxpvLUOcHTyUTGIRLoOsQ0pPW2GXJpFzlShKg4J_   \n",
       "2  DIAMOND    I  UHd2YrByzhM458uxwF_sR5saxARizi-quOa-S30OmFH41Or8   \n",
       "3  DIAMOND    I  JbkMW-xXj99fD7CesxP-4Q7HTbTVw_DjEAXhMuPMGqj1xEZt   \n",
       "4  DIAMOND    I  2RiE8ql63iwtSSYQYA_f84PtrCX_js2FrAWlOJfI4Wm83uES   \n",
       "\n",
       "  summonerName  leaguePoints  wins  losses  \n",
       "0       Meiran            90   200     187  \n",
       "1    Preciöus              0   101      79  \n",
       "2      ˆˇˇˆˇˇˆ            52   160     146  \n",
       "3    Huskigodx             3   264     261  \n",
       "4       Ghiosu            30   448     434  "
      ]
     },
     "execution_count": 2,
     "metadata": {},
     "output_type": "execute_result"
    }
   ],
   "source": [
    "players_pool = pd.read_pickle(\"raw_data/players_pool.pkl\")\n",
    "players_pool.head()"
   ]
  },
  {
   "cell_type": "code",
   "execution_count": 3,
   "metadata": {},
   "outputs": [
    {
     "data": {
      "text/plain": [
       "'rvTHik0BLi0tKf0oBNH1LB-MrXNHgTYTIJp_xM9Jl22xfFpp'"
      ]
     },
     "execution_count": 3,
     "metadata": {},
     "output_type": "execute_result"
    }
   ],
   "source": [
    "id_list = players_pool[\"summonerId\"].to_list()\n",
    "id_list[0]"
   ]
  },
  {
   "cell_type": "markdown",
   "metadata": {},
   "source": [
    "## 2. Check how the api works"
   ]
  },
  {
   "cell_type": "code",
   "execution_count": 4,
   "metadata": {},
   "outputs": [],
   "source": [
    "def get_acc_info(summoner_id: str):\n",
    "    \n",
    "    url = f\"https://euw1.api.riotgames.com/lol/summoner/v4/summoners/{summoner_id}?api_key={TOKEN}\"\n",
    "    res = req.get(url)\n",
    "    \n",
    "    return res.json()"
   ]
  },
  {
   "cell_type": "code",
   "execution_count": 5,
   "metadata": {},
   "outputs": [
    {
     "data": {
      "text/plain": [
       "{'id': 'rvTHik0BLi0tKf0oBNH1LB-MrXNHgTYTIJp_xM9Jl22xfFpp',\n",
       " 'accountId': 'Xqb-V8M3R76oVcB07Xl9HIW1aQQtlFBdIc0SUN4QJMCvVpg',\n",
       " 'puuid': '7d4EK5NVYbakMY9VXZ6DSUWMkTp_eHYL3phhtSVPR5OkgqQBM0NrMM8iQej9Ka2fSDjRMR_4X3kggQ',\n",
       " 'name': 'Meiran',\n",
       " 'profileIconId': 4568,\n",
       " 'revisionDate': 1594471446000,\n",
       " 'summonerLevel': 229}"
      ]
     },
     "execution_count": 5,
     "metadata": {},
     "output_type": "execute_result"
    }
   ],
   "source": [
    "get_acc_info(id_list[0])"
   ]
  },
  {
   "cell_type": "markdown",
   "metadata": {},
   "source": [
    "- We are interested on storing the accountId value into the players data"
   ]
  },
  {
   "cell_type": "markdown",
   "metadata": {},
   "source": [
    "# 3. Adjust the function to retrieve each individual account information\n",
    "\n",
    "- max 100 request every 2 minutes"
   ]
  },
  {
   "cell_type": "code",
   "execution_count": 12,
   "metadata": {},
   "outputs": [],
   "source": [
    "def get_accounts_info(id_list: list, token: str, path: str, start=0, end=0) -> pd.DataFrame:\n",
    "    container = []\n",
    "    base_url = \"https://euw1.api.riotgames.com/lol/summoner/v4/summoners\"\n",
    "    n_requests = 0\n",
    "    while start < end:\n",
    "        # request account info for each summoner_id\n",
    "        for i in range(start, end):\n",
    "            # control the number of requests\n",
    "            if n_requests >= 100:\n",
    "                print(f\"Number of Entries so far: {len(container)}\")\n",
    "                n_requests = 0\n",
    "                time.sleep(121)\n",
    "\n",
    "            # make request\n",
    "            url = f\"{base_url}/{id_list[i]}?api_key={token}\"\n",
    "            res = req.get(url)\n",
    "            if res.status_code == 200:\n",
    "                container.append(res.json())\n",
    "                # update position\n",
    "                start += 1\n",
    "            else:\n",
    "                # if error save to csv\n",
    "                pd.DataFrame(container).to_csv(\n",
    "                    f\"{path}/fragmented_data/account_info_{start}.pkl\", index=False)\n",
    "                print(f\"Something went wrong {res.status_code}\")\n",
    "                break\n",
    "            # update the number of requests\n",
    "            n_requests += 1\n",
    "    print(f\"Done, number of elements: {len(container)}\")\n",
    "    # return useful data\n",
    "    container = pd.DataFrame(container).rename(columns={\"id\": \"summonerId\"})\n",
    "    container = container[[\"summonerId\", \"accountId\"]]\n",
    "    container.to_pickle(f\"{path}/account_info.pkl\", protocol=4)\n",
    "    return f\"File saved at {path}/account_info.pkl\""
   ]
  },
  {
   "cell_type": "markdown",
   "metadata": {},
   "source": [
    "- Execute the function and hope for the best :D"
   ]
  },
  {
   "cell_type": "code",
   "execution_count": 13,
   "metadata": {},
   "outputs": [
    {
     "name": "stdout",
     "output_type": "stream",
     "text": [
      "Done, number of elements: 100\n"
     ]
    },
    {
     "data": {
      "text/plain": [
       "'File saved at raw_data/account_info.pkl'"
      ]
     },
     "execution_count": 13,
     "metadata": {},
     "output_type": "execute_result"
    }
   ],
   "source": [
    "get_accounts_info(id_list, TOKEN, \"raw_data\", 0, 100)"
   ]
  },
  {
   "cell_type": "markdown",
   "metadata": {},
   "source": [
    "## 4. Check the data (already done in the function above this is just a step by step)"
   ]
  },
  {
   "cell_type": "code",
   "execution_count": 35,
   "metadata": {},
   "outputs": [
    {
     "name": "stdout",
     "output_type": "stream",
     "text": [
      "Columns: 7 Rows: 200\n",
      "\n",
      "Number of duplcated rows: 0\n",
      "\n",
      "Null values per column:\n",
      "\n",
      "id               0\n",
      "accountId        0\n",
      "puuid            0\n",
      "name             0\n",
      "profileIconId    0\n",
      "revisionDate     0\n",
      "summonerLevel    0\n",
      "dtype: int64\n"
     ]
    }
   ],
   "source": [
    "first = pd.DataFrame(first)\n",
    "print(f\"Columns: {first.shape[1]} Rows: {first.shape[0]}\\n\")\n",
    "print(f\"Number of duplcated rows: {first.duplicated().sum()}\\n\")\n",
    "print(\"Null values per column:\\n\")\n",
    "print(first.isna().sum())"
   ]
  },
  {
   "cell_type": "markdown",
   "metadata": {},
   "source": [
    "- Rename the id column to match summonerId on the player's pool"
   ]
  },
  {
   "cell_type": "code",
   "execution_count": 39,
   "metadata": {},
   "outputs": [],
   "source": [
    "first = first.rename(columns={\"id\": \"summonerId\"})"
   ]
  },
  {
   "cell_type": "markdown",
   "metadata": {},
   "source": [
    "- Select the keys we want"
   ]
  },
  {
   "cell_type": "code",
   "execution_count": 41,
   "metadata": {},
   "outputs": [],
   "source": [
    "first = first[[\"summonerId\", \"accountId\"]]"
   ]
  },
  {
   "cell_type": "markdown",
   "metadata": {},
   "source": [
    "## 5. Merge the data from accounts to player_pool data"
   ]
  },
  {
   "cell_type": "code",
   "execution_count": 44,
   "metadata": {},
   "outputs": [],
   "source": [
    "players_pool = players_pool.merge(first, on=\"summonerId\")"
   ]
  },
  {
   "cell_type": "code",
   "execution_count": 48,
   "metadata": {},
   "outputs": [
    {
     "data": {
      "text/html": [
       "<div>\n",
       "<style scoped>\n",
       "    .dataframe tbody tr th:only-of-type {\n",
       "        vertical-align: middle;\n",
       "    }\n",
       "\n",
       "    .dataframe tbody tr th {\n",
       "        vertical-align: top;\n",
       "    }\n",
       "\n",
       "    .dataframe thead th {\n",
       "        text-align: right;\n",
       "    }\n",
       "</style>\n",
       "<table border=\"1\" class=\"dataframe\">\n",
       "  <thead>\n",
       "    <tr style=\"text-align: right;\">\n",
       "      <th></th>\n",
       "      <th>tier</th>\n",
       "      <th>rank</th>\n",
       "      <th>summonerId</th>\n",
       "      <th>summonerName</th>\n",
       "      <th>leaguePoints</th>\n",
       "      <th>wins</th>\n",
       "      <th>losses</th>\n",
       "      <th>accountId</th>\n",
       "    </tr>\n",
       "  </thead>\n",
       "  <tbody>\n",
       "    <tr>\n",
       "      <th>0</th>\n",
       "      <td>DIAMOND</td>\n",
       "      <td>I</td>\n",
       "      <td>rvTHik0BLi0tKf0oBNH1LB-MrXNHgTYTIJp_xM9Jl22xfFpp</td>\n",
       "      <td>Meiran</td>\n",
       "      <td>90</td>\n",
       "      <td>200</td>\n",
       "      <td>187</td>\n",
       "      <td>Xqb-V8M3R76oVcB07Xl9HIW1aQQtlFBdIc0SUN4QJMCvVpg</td>\n",
       "    </tr>\n",
       "    <tr>\n",
       "      <th>1</th>\n",
       "      <td>DIAMOND</td>\n",
       "      <td>I</td>\n",
       "      <td>Q1MxBiPaWxpvLUOcHTyUTGIRLoOsQ0pPW2GXJpFzlShKg4J_</td>\n",
       "      <td>Preciöus</td>\n",
       "      <td>0</td>\n",
       "      <td>101</td>\n",
       "      <td>79</td>\n",
       "      <td>2O_DVP7Wz4HWs039wGEKgdNsSrt_E3mQv9SZnEEH-G2LYt4</td>\n",
       "    </tr>\n",
       "    <tr>\n",
       "      <th>2</th>\n",
       "      <td>DIAMOND</td>\n",
       "      <td>I</td>\n",
       "      <td>UHd2YrByzhM458uxwF_sR5saxARizi-quOa-S30OmFH41Or8</td>\n",
       "      <td>ˆˇˇˆˇˇˆ</td>\n",
       "      <td>52</td>\n",
       "      <td>160</td>\n",
       "      <td>146</td>\n",
       "      <td>D3JuXBnzCjgcpOe3l-mfjOFv6_CypuLMKonCRtFWxxhYJl0</td>\n",
       "    </tr>\n",
       "    <tr>\n",
       "      <th>3</th>\n",
       "      <td>DIAMOND</td>\n",
       "      <td>I</td>\n",
       "      <td>JbkMW-xXj99fD7CesxP-4Q7HTbTVw_DjEAXhMuPMGqj1xEZt</td>\n",
       "      <td>Huskigodx</td>\n",
       "      <td>3</td>\n",
       "      <td>264</td>\n",
       "      <td>261</td>\n",
       "      <td>K1II1_OHR-OOdOvq_pqmDLqCJh7UH7A7RijWxD1erWu7KxY</td>\n",
       "    </tr>\n",
       "    <tr>\n",
       "      <th>4</th>\n",
       "      <td>DIAMOND</td>\n",
       "      <td>I</td>\n",
       "      <td>2RiE8ql63iwtSSYQYA_f84PtrCX_js2FrAWlOJfI4Wm83uES</td>\n",
       "      <td>Ghiosu</td>\n",
       "      <td>30</td>\n",
       "      <td>448</td>\n",
       "      <td>434</td>\n",
       "      <td>6-ZpLloiZHOa7RjJSXDYC9N_835Hi6uIlzAe2fU5T7H4kIg</td>\n",
       "    </tr>\n",
       "  </tbody>\n",
       "</table>\n",
       "</div>"
      ],
      "text/plain": [
       "      tier rank                                        summonerId  \\\n",
       "0  DIAMOND    I  rvTHik0BLi0tKf0oBNH1LB-MrXNHgTYTIJp_xM9Jl22xfFpp   \n",
       "1  DIAMOND    I  Q1MxBiPaWxpvLUOcHTyUTGIRLoOsQ0pPW2GXJpFzlShKg4J_   \n",
       "2  DIAMOND    I  UHd2YrByzhM458uxwF_sR5saxARizi-quOa-S30OmFH41Or8   \n",
       "3  DIAMOND    I  JbkMW-xXj99fD7CesxP-4Q7HTbTVw_DjEAXhMuPMGqj1xEZt   \n",
       "4  DIAMOND    I  2RiE8ql63iwtSSYQYA_f84PtrCX_js2FrAWlOJfI4Wm83uES   \n",
       "\n",
       "  summonerName  leaguePoints  wins  losses  \\\n",
       "0       Meiran            90   200     187   \n",
       "1    Preciöus              0   101      79   \n",
       "2      ˆˇˇˆˇˇˆ            52   160     146   \n",
       "3    Huskigodx             3   264     261   \n",
       "4       Ghiosu            30   448     434   \n",
       "\n",
       "                                         accountId  \n",
       "0  Xqb-V8M3R76oVcB07Xl9HIW1aQQtlFBdIc0SUN4QJMCvVpg  \n",
       "1  2O_DVP7Wz4HWs039wGEKgdNsSrt_E3mQv9SZnEEH-G2LYt4  \n",
       "2  D3JuXBnzCjgcpOe3l-mfjOFv6_CypuLMKonCRtFWxxhYJl0  \n",
       "3  K1II1_OHR-OOdOvq_pqmDLqCJh7UH7A7RijWxD1erWu7KxY  \n",
       "4  6-ZpLloiZHOa7RjJSXDYC9N_835Hi6uIlzAe2fU5T7H4kIg  "
      ]
     },
     "execution_count": 48,
     "metadata": {},
     "output_type": "execute_result"
    }
   ],
   "source": [
    "players_pool.head()"
   ]
  },
  {
   "cell_type": "markdown",
   "metadata": {},
   "source": [
    "## 6. Export the data"
   ]
  },
  {
   "cell_type": "code",
   "execution_count": 45,
   "metadata": {},
   "outputs": [],
   "source": [
    "players_pool.to_pickle(\"raw_data/players_pool_acc_id.pkl\", protocol=4)"
   ]
  },
  {
   "cell_type": "markdown",
   "metadata": {},
   "source": [
    "# As a function"
   ]
  },
  {
   "cell_type": "code",
   "execution_count": 15,
   "metadata": {},
   "outputs": [],
   "source": [
    "def merge_with(players_pool: pd.DataFrame, container: pd.DataFrame, path: str):\n",
    "    players_pool = players_pool.merge(container, on=\"summonerId\")\n",
    "    players_pool.to_pickle(f\"{path}/players_pool_account.pkl\", protocol=4)\n",
    "    return f\"File saved at {path}/players_pool_account.pkl\""
   ]
  },
  {
   "cell_type": "code",
   "execution_count": 18,
   "metadata": {},
   "outputs": [
    {
     "data": {
      "text/html": [
       "<div>\n",
       "<style scoped>\n",
       "    .dataframe tbody tr th:only-of-type {\n",
       "        vertical-align: middle;\n",
       "    }\n",
       "\n",
       "    .dataframe tbody tr th {\n",
       "        vertical-align: top;\n",
       "    }\n",
       "\n",
       "    .dataframe thead th {\n",
       "        text-align: right;\n",
       "    }\n",
       "</style>\n",
       "<table border=\"1\" class=\"dataframe\">\n",
       "  <thead>\n",
       "    <tr style=\"text-align: right;\">\n",
       "      <th></th>\n",
       "      <th>summonerId</th>\n",
       "      <th>accountId</th>\n",
       "    </tr>\n",
       "  </thead>\n",
       "  <tbody>\n",
       "    <tr>\n",
       "      <th>0</th>\n",
       "      <td>rvTHik0BLi0tKf0oBNH1LB-MrXNHgTYTIJp_xM9Jl22xfFpp</td>\n",
       "      <td>Xqb-V8M3R76oVcB07Xl9HIW1aQQtlFBdIc0SUN4QJMCvVpg</td>\n",
       "    </tr>\n",
       "    <tr>\n",
       "      <th>1</th>\n",
       "      <td>Q1MxBiPaWxpvLUOcHTyUTGIRLoOsQ0pPW2GXJpFzlShKg4J_</td>\n",
       "      <td>2O_DVP7Wz4HWs039wGEKgdNsSrt_E3mQv9SZnEEH-G2LYt4</td>\n",
       "    </tr>\n",
       "    <tr>\n",
       "      <th>2</th>\n",
       "      <td>UHd2YrByzhM458uxwF_sR5saxARizi-quOa-S30OmFH41Or8</td>\n",
       "      <td>D3JuXBnzCjgcpOe3l-mfjOFv6_CypuLMKonCRtFWxxhYJl0</td>\n",
       "    </tr>\n",
       "    <tr>\n",
       "      <th>3</th>\n",
       "      <td>JbkMW-xXj99fD7CesxP-4Q7HTbTVw_DjEAXhMuPMGqj1xEZt</td>\n",
       "      <td>K1II1_OHR-OOdOvq_pqmDLqCJh7UH7A7RijWxD1erWu7KxY</td>\n",
       "    </tr>\n",
       "    <tr>\n",
       "      <th>4</th>\n",
       "      <td>2RiE8ql63iwtSSYQYA_f84PtrCX_js2FrAWlOJfI4Wm83uES</td>\n",
       "      <td>6-ZpLloiZHOa7RjJSXDYC9N_835Hi6uIlzAe2fU5T7H4kIg</td>\n",
       "    </tr>\n",
       "  </tbody>\n",
       "</table>\n",
       "</div>"
      ],
      "text/plain": [
       "                                         summonerId  \\\n",
       "0  rvTHik0BLi0tKf0oBNH1LB-MrXNHgTYTIJp_xM9Jl22xfFpp   \n",
       "1  Q1MxBiPaWxpvLUOcHTyUTGIRLoOsQ0pPW2GXJpFzlShKg4J_   \n",
       "2  UHd2YrByzhM458uxwF_sR5saxARizi-quOa-S30OmFH41Or8   \n",
       "3  JbkMW-xXj99fD7CesxP-4Q7HTbTVw_DjEAXhMuPMGqj1xEZt   \n",
       "4  2RiE8ql63iwtSSYQYA_f84PtrCX_js2FrAWlOJfI4Wm83uES   \n",
       "\n",
       "                                         accountId  \n",
       "0  Xqb-V8M3R76oVcB07Xl9HIW1aQQtlFBdIc0SUN4QJMCvVpg  \n",
       "1  2O_DVP7Wz4HWs039wGEKgdNsSrt_E3mQv9SZnEEH-G2LYt4  \n",
       "2  D3JuXBnzCjgcpOe3l-mfjOFv6_CypuLMKonCRtFWxxhYJl0  \n",
       "3  K1II1_OHR-OOdOvq_pqmDLqCJh7UH7A7RijWxD1erWu7KxY  \n",
       "4  6-ZpLloiZHOa7RjJSXDYC9N_835Hi6uIlzAe2fU5T7H4kIg  "
      ]
     },
     "execution_count": 18,
     "metadata": {},
     "output_type": "execute_result"
    }
   ],
   "source": [
    "acc_info = pd.read_pickle(\"raw_data/account_info.pkl\")\n",
    "acc_info.head()"
   ]
  },
  {
   "cell_type": "code",
   "execution_count": 19,
   "metadata": {},
   "outputs": [
    {
     "data": {
      "text/plain": [
       "'File saved at raw_data/players_pool_account.pkl'"
      ]
     },
     "execution_count": 19,
     "metadata": {},
     "output_type": "execute_result"
    }
   ],
   "source": [
    "merge_with(players_pool, acc_info, \"raw_data\")"
   ]
  },
  {
   "cell_type": "markdown",
   "metadata": {},
   "source": [
    "- Check the file"
   ]
  },
  {
   "cell_type": "code",
   "execution_count": 20,
   "metadata": {},
   "outputs": [
    {
     "data": {
      "text/html": [
       "<div>\n",
       "<style scoped>\n",
       "    .dataframe tbody tr th:only-of-type {\n",
       "        vertical-align: middle;\n",
       "    }\n",
       "\n",
       "    .dataframe tbody tr th {\n",
       "        vertical-align: top;\n",
       "    }\n",
       "\n",
       "    .dataframe thead th {\n",
       "        text-align: right;\n",
       "    }\n",
       "</style>\n",
       "<table border=\"1\" class=\"dataframe\">\n",
       "  <thead>\n",
       "    <tr style=\"text-align: right;\">\n",
       "      <th></th>\n",
       "      <th>tier</th>\n",
       "      <th>rank</th>\n",
       "      <th>summonerId</th>\n",
       "      <th>summonerName</th>\n",
       "      <th>leaguePoints</th>\n",
       "      <th>wins</th>\n",
       "      <th>losses</th>\n",
       "      <th>accountId</th>\n",
       "    </tr>\n",
       "  </thead>\n",
       "  <tbody>\n",
       "    <tr>\n",
       "      <th>0</th>\n",
       "      <td>DIAMOND</td>\n",
       "      <td>I</td>\n",
       "      <td>rvTHik0BLi0tKf0oBNH1LB-MrXNHgTYTIJp_xM9Jl22xfFpp</td>\n",
       "      <td>Meiran</td>\n",
       "      <td>90</td>\n",
       "      <td>200</td>\n",
       "      <td>187</td>\n",
       "      <td>Xqb-V8M3R76oVcB07Xl9HIW1aQQtlFBdIc0SUN4QJMCvVpg</td>\n",
       "    </tr>\n",
       "    <tr>\n",
       "      <th>1</th>\n",
       "      <td>DIAMOND</td>\n",
       "      <td>I</td>\n",
       "      <td>Q1MxBiPaWxpvLUOcHTyUTGIRLoOsQ0pPW2GXJpFzlShKg4J_</td>\n",
       "      <td>Preciöus</td>\n",
       "      <td>0</td>\n",
       "      <td>101</td>\n",
       "      <td>79</td>\n",
       "      <td>2O_DVP7Wz4HWs039wGEKgdNsSrt_E3mQv9SZnEEH-G2LYt4</td>\n",
       "    </tr>\n",
       "    <tr>\n",
       "      <th>2</th>\n",
       "      <td>DIAMOND</td>\n",
       "      <td>I</td>\n",
       "      <td>UHd2YrByzhM458uxwF_sR5saxARizi-quOa-S30OmFH41Or8</td>\n",
       "      <td>ˆˇˇˆˇˇˆ</td>\n",
       "      <td>52</td>\n",
       "      <td>160</td>\n",
       "      <td>146</td>\n",
       "      <td>D3JuXBnzCjgcpOe3l-mfjOFv6_CypuLMKonCRtFWxxhYJl0</td>\n",
       "    </tr>\n",
       "    <tr>\n",
       "      <th>3</th>\n",
       "      <td>DIAMOND</td>\n",
       "      <td>I</td>\n",
       "      <td>JbkMW-xXj99fD7CesxP-4Q7HTbTVw_DjEAXhMuPMGqj1xEZt</td>\n",
       "      <td>Huskigodx</td>\n",
       "      <td>3</td>\n",
       "      <td>264</td>\n",
       "      <td>261</td>\n",
       "      <td>K1II1_OHR-OOdOvq_pqmDLqCJh7UH7A7RijWxD1erWu7KxY</td>\n",
       "    </tr>\n",
       "    <tr>\n",
       "      <th>4</th>\n",
       "      <td>DIAMOND</td>\n",
       "      <td>I</td>\n",
       "      <td>2RiE8ql63iwtSSYQYA_f84PtrCX_js2FrAWlOJfI4Wm83uES</td>\n",
       "      <td>Ghiosu</td>\n",
       "      <td>30</td>\n",
       "      <td>448</td>\n",
       "      <td>434</td>\n",
       "      <td>6-ZpLloiZHOa7RjJSXDYC9N_835Hi6uIlzAe2fU5T7H4kIg</td>\n",
       "    </tr>\n",
       "  </tbody>\n",
       "</table>\n",
       "</div>"
      ],
      "text/plain": [
       "      tier rank                                        summonerId  \\\n",
       "0  DIAMOND    I  rvTHik0BLi0tKf0oBNH1LB-MrXNHgTYTIJp_xM9Jl22xfFpp   \n",
       "1  DIAMOND    I  Q1MxBiPaWxpvLUOcHTyUTGIRLoOsQ0pPW2GXJpFzlShKg4J_   \n",
       "2  DIAMOND    I  UHd2YrByzhM458uxwF_sR5saxARizi-quOa-S30OmFH41Or8   \n",
       "3  DIAMOND    I  JbkMW-xXj99fD7CesxP-4Q7HTbTVw_DjEAXhMuPMGqj1xEZt   \n",
       "4  DIAMOND    I  2RiE8ql63iwtSSYQYA_f84PtrCX_js2FrAWlOJfI4Wm83uES   \n",
       "\n",
       "  summonerName  leaguePoints  wins  losses  \\\n",
       "0       Meiran            90   200     187   \n",
       "1    Preciöus              0   101      79   \n",
       "2      ˆˇˇˆˇˇˆ            52   160     146   \n",
       "3    Huskigodx             3   264     261   \n",
       "4       Ghiosu            30   448     434   \n",
       "\n",
       "                                         accountId  \n",
       "0  Xqb-V8M3R76oVcB07Xl9HIW1aQQtlFBdIc0SUN4QJMCvVpg  \n",
       "1  2O_DVP7Wz4HWs039wGEKgdNsSrt_E3mQv9SZnEEH-G2LYt4  \n",
       "2  D3JuXBnzCjgcpOe3l-mfjOFv6_CypuLMKonCRtFWxxhYJl0  \n",
       "3  K1II1_OHR-OOdOvq_pqmDLqCJh7UH7A7RijWxD1erWu7KxY  \n",
       "4  6-ZpLloiZHOa7RjJSXDYC9N_835Hi6uIlzAe2fU5T7H4kIg  "
      ]
     },
     "execution_count": 20,
     "metadata": {},
     "output_type": "execute_result"
    }
   ],
   "source": [
    "merged = pd.read_pickle(\"raw_data/players_pool_account.pkl\")\n",
    "merged.head()"
   ]
  }
 ],
 "metadata": {
  "kernelspec": {
   "display_name": "Python 3.8.3 64-bit ('ironhack': conda)",
   "language": "python",
   "name": "python38364bitironhackcondae22397c42f6b4fd29a9381c81ac70f68"
  },
  "language_info": {
   "codemirror_mode": {
    "name": "ipython",
    "version": 3
   },
   "file_extension": ".py",
   "mimetype": "text/x-python",
   "name": "python",
   "nbconvert_exporter": "python",
   "pygments_lexer": "ipython3",
   "version": "3.8.3"
  }
 },
 "nbformat": 4,
 "nbformat_minor": 4
}

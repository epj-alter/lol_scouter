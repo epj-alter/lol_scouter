{
 "cells": [
  {
   "cell_type": "markdown",
   "metadata": {},
   "source": [
    "# Retrieving match history per player"
   ]
  },
  {
   "cell_type": "code",
   "execution_count": 2,
   "metadata": {},
   "outputs": [],
   "source": [
    "import time\n",
    "\n",
    "from itertools import chain\n",
    "\n",
    "import requests as req\n",
    "import pandas as pd\n",
    "import numpy as np\n",
    "\n",
    "from settings import TOKEN"
   ]
  },
  {
   "cell_type": "markdown",
   "metadata": {},
   "source": [
    "## Goal\n",
    "\n",
    "Create a unique collection of matches id from the ladder, in order to retrieve the final match data."
   ]
  },
  {
   "cell_type": "markdown",
   "metadata": {},
   "source": [
    "## 1. Get the players account_id list"
   ]
  },
  {
   "cell_type": "code",
   "execution_count": 3,
   "metadata": {},
   "outputs": [
    {
     "data": {
      "text/html": [
       "<div>\n",
       "<style scoped>\n",
       "    .dataframe tbody tr th:only-of-type {\n",
       "        vertical-align: middle;\n",
       "    }\n",
       "\n",
       "    .dataframe tbody tr th {\n",
       "        vertical-align: top;\n",
       "    }\n",
       "\n",
       "    .dataframe thead th {\n",
       "        text-align: right;\n",
       "    }\n",
       "</style>\n",
       "<table border=\"1\" class=\"dataframe\">\n",
       "  <thead>\n",
       "    <tr style=\"text-align: right;\">\n",
       "      <th></th>\n",
       "      <th>tier</th>\n",
       "      <th>rank</th>\n",
       "      <th>summonerId</th>\n",
       "      <th>summonerName</th>\n",
       "      <th>leaguePoints</th>\n",
       "      <th>wins</th>\n",
       "      <th>losses</th>\n",
       "      <th>accountId</th>\n",
       "    </tr>\n",
       "  </thead>\n",
       "  <tbody>\n",
       "    <tr>\n",
       "      <th>0</th>\n",
       "      <td>DIAMOND</td>\n",
       "      <td>I</td>\n",
       "      <td>rvTHik0BLi0tKf0oBNH1LB-MrXNHgTYTIJp_xM9Jl22xfFpp</td>\n",
       "      <td>Meiran</td>\n",
       "      <td>90</td>\n",
       "      <td>200</td>\n",
       "      <td>187</td>\n",
       "      <td>Xqb-V8M3R76oVcB07Xl9HIW1aQQtlFBdIc0SUN4QJMCvVpg</td>\n",
       "    </tr>\n",
       "    <tr>\n",
       "      <th>1</th>\n",
       "      <td>DIAMOND</td>\n",
       "      <td>I</td>\n",
       "      <td>Q1MxBiPaWxpvLUOcHTyUTGIRLoOsQ0pPW2GXJpFzlShKg4J_</td>\n",
       "      <td>Preciöus</td>\n",
       "      <td>0</td>\n",
       "      <td>101</td>\n",
       "      <td>79</td>\n",
       "      <td>2O_DVP7Wz4HWs039wGEKgdNsSrt_E3mQv9SZnEEH-G2LYt4</td>\n",
       "    </tr>\n",
       "    <tr>\n",
       "      <th>2</th>\n",
       "      <td>DIAMOND</td>\n",
       "      <td>I</td>\n",
       "      <td>UHd2YrByzhM458uxwF_sR5saxARizi-quOa-S30OmFH41Or8</td>\n",
       "      <td>ˆˇˇˆˇˇˆ</td>\n",
       "      <td>52</td>\n",
       "      <td>160</td>\n",
       "      <td>146</td>\n",
       "      <td>D3JuXBnzCjgcpOe3l-mfjOFv6_CypuLMKonCRtFWxxhYJl0</td>\n",
       "    </tr>\n",
       "    <tr>\n",
       "      <th>3</th>\n",
       "      <td>DIAMOND</td>\n",
       "      <td>I</td>\n",
       "      <td>JbkMW-xXj99fD7CesxP-4Q7HTbTVw_DjEAXhMuPMGqj1xEZt</td>\n",
       "      <td>Huskigodx</td>\n",
       "      <td>3</td>\n",
       "      <td>264</td>\n",
       "      <td>261</td>\n",
       "      <td>K1II1_OHR-OOdOvq_pqmDLqCJh7UH7A7RijWxD1erWu7KxY</td>\n",
       "    </tr>\n",
       "    <tr>\n",
       "      <th>4</th>\n",
       "      <td>DIAMOND</td>\n",
       "      <td>I</td>\n",
       "      <td>2RiE8ql63iwtSSYQYA_f84PtrCX_js2FrAWlOJfI4Wm83uES</td>\n",
       "      <td>Ghiosu</td>\n",
       "      <td>30</td>\n",
       "      <td>448</td>\n",
       "      <td>434</td>\n",
       "      <td>6-ZpLloiZHOa7RjJSXDYC9N_835Hi6uIlzAe2fU5T7H4kIg</td>\n",
       "    </tr>\n",
       "  </tbody>\n",
       "</table>\n",
       "</div>"
      ],
      "text/plain": [
       "      tier rank                                        summonerId  \\\n",
       "0  DIAMOND    I  rvTHik0BLi0tKf0oBNH1LB-MrXNHgTYTIJp_xM9Jl22xfFpp   \n",
       "1  DIAMOND    I  Q1MxBiPaWxpvLUOcHTyUTGIRLoOsQ0pPW2GXJpFzlShKg4J_   \n",
       "2  DIAMOND    I  UHd2YrByzhM458uxwF_sR5saxARizi-quOa-S30OmFH41Or8   \n",
       "3  DIAMOND    I  JbkMW-xXj99fD7CesxP-4Q7HTbTVw_DjEAXhMuPMGqj1xEZt   \n",
       "4  DIAMOND    I  2RiE8ql63iwtSSYQYA_f84PtrCX_js2FrAWlOJfI4Wm83uES   \n",
       "\n",
       "  summonerName  leaguePoints  wins  losses  \\\n",
       "0       Meiran            90   200     187   \n",
       "1    Preciöus              0   101      79   \n",
       "2      ˆˇˇˆˇˇˆ            52   160     146   \n",
       "3    Huskigodx             3   264     261   \n",
       "4       Ghiosu            30   448     434   \n",
       "\n",
       "                                         accountId  \n",
       "0  Xqb-V8M3R76oVcB07Xl9HIW1aQQtlFBdIc0SUN4QJMCvVpg  \n",
       "1  2O_DVP7Wz4HWs039wGEKgdNsSrt_E3mQv9SZnEEH-G2LYt4  \n",
       "2  D3JuXBnzCjgcpOe3l-mfjOFv6_CypuLMKonCRtFWxxhYJl0  \n",
       "3  K1II1_OHR-OOdOvq_pqmDLqCJh7UH7A7RijWxD1erWu7KxY  \n",
       "4  6-ZpLloiZHOa7RjJSXDYC9N_835Hi6uIlzAe2fU5T7H4kIg  "
      ]
     },
     "execution_count": 3,
     "metadata": {},
     "output_type": "execute_result"
    }
   ],
   "source": [
    "players = pd.read_pickle(\"raw_data/players_pool_account.pkl\")\n",
    "players.head()"
   ]
  },
  {
   "cell_type": "code",
   "execution_count": 4,
   "metadata": {},
   "outputs": [],
   "source": [
    "player_id_list = players[\"accountId\"].to_list()"
   ]
  },
  {
   "cell_type": "markdown",
   "metadata": {},
   "source": [
    "## 2. Check the API method\n",
    "\n",
    "- needs accountId\n",
    "- needs queue id (420 for 5v5 Ranked Solo Games)\n",
    "- needs begin time **1593561600 = first of july**"
   ]
  },
  {
   "cell_type": "code",
   "execution_count": 5,
   "metadata": {},
   "outputs": [],
   "source": [
    "def get_matchlist(account_id: str, token: str, begin_time = 1593561600, queue_id = 420):\n",
    "    begin_index = 0\n",
    "    base_url = f\"https://euw1.api.riotgames.com/lol/match/v4/matchlists/by-account\"\n",
    "    url= f\"{base_url}/{account_id}?queue={queue_id}&api_key={token}&beginTime={begin_time}&beginIndex={begin_index}\"\n",
    "    res = req.get(url)\n",
    "    \n",
    "    return res.json()"
   ]
  },
  {
   "cell_type": "code",
   "execution_count": 6,
   "metadata": {},
   "outputs": [],
   "source": [
    "match_list = get_matchlist(player_id_list[0], TOKEN)"
   ]
  },
  {
   "cell_type": "code",
   "execution_count": 11,
   "metadata": {},
   "outputs": [
    {
     "data": {
      "text/plain": [
       "{'platformId': 'EUW1',\n",
       " 'gameId': 4671787510,\n",
       " 'champion': 64,\n",
       " 'queue': 420,\n",
       " 'season': 13,\n",
       " 'timestamp': 1592764299945,\n",
       " 'role': 'NONE',\n",
       " 'lane': 'JUNGLE'}"
      ]
     },
     "execution_count": 11,
     "metadata": {},
     "output_type": "execute_result"
    }
   ],
   "source": [
    "match_list[\"matches\"][0]"
   ]
  },
  {
   "cell_type": "markdown",
   "metadata": {},
   "source": [
    "## 3. Adjust the Function to make multiple calls\n",
    "\n",
    "- Flattens the list of matches into one whole list, easier to work with using pandas.\n",
    "- Gets all the matchId records which is the value we care about\n",
    "- Saves to a pickle file"
   ]
  },
  {
   "cell_type": "code",
   "execution_count": 47,
   "metadata": {},
   "outputs": [],
   "source": [
    "def get_match_history(players_list: list, token: str, start=0 , end=0, begin_time = 1593561600, queue_id = 420):\n",
    "    \n",
    "    container = []\n",
    "    base_url = f\"https://euw1.api.riotgames.com/lol/match/v4/matchlists/by-account\"\n",
    "    n_requests = 0\n",
    "    \n",
    "    for i in range(start, end):\n",
    "        \n",
    "        # reset begin index\n",
    "        begin_index = 0\n",
    "        \n",
    "        # append a new list for each player\n",
    "        # to keep count of number of entries.\n",
    "        container.append([])\n",
    "            \n",
    "        while True:\n",
    "            url= f\"{base_url}/{players_list[i]}?queue={queue_id}&api_key={token}&beginTime={begin_time}&beginIndex={begin_index}\"\n",
    "                \n",
    "            # control the number of requests\n",
    "            if n_requests >= 100:\n",
    "                print(f\"Number of Entries so far: {len(container)}\")\n",
    "                n_requests = 0\n",
    "                time.sleep(121)\n",
    "                    \n",
    "            # make request\n",
    "            res = req.get(url)\n",
    "            # update number of requests\n",
    "            n_requests += 1\n",
    "                \n",
    "            # check for errors\n",
    "            if res.status_code == 200:    \n",
    "                # check if response is not empty\n",
    "                if len(res.json()[\"matches\"]) > 0:\n",
    "                    container[i].append(res.json()[\"matches\"])\n",
    "                    # adjust begin index\n",
    "                    begin_index += 100\n",
    "                else:\n",
    "                    break\n",
    "            else:\n",
    "                pd.DataFrame(container).to_pickle(f\"raw_data/fragmented_data/match_ids_{i}.pkl\", protocol=4)\n",
    "                print(f\"Something went wrong {res.status_code}\")\n",
    "                break\n",
    "\n",
    "    # process container and save\n",
    "    container = list(chain.from_iterable(list(chain.from_iterable(container))))\n",
    "    container = pd.DataFrame(container)[\"gameId\"]\n",
    "    container.to_pickle(\"raw_data/match_ids.pkl\")\n",
    "    \n",
    "    return f\"File saved at raw_data/matches_id.pkl\""
   ]
  },
  {
   "cell_type": "markdown",
   "metadata": {},
   "source": [
    "- Execute the function"
   ]
  },
  {
   "cell_type": "code",
   "execution_count": 27,
   "metadata": {},
   "outputs": [],
   "source": [
    "cont = get_match_history(player_id_list, TOKEN, start=0, end=2)"
   ]
  },
  {
   "cell_type": "markdown",
   "metadata": {},
   "source": [
    "- Check the file"
   ]
  },
  {
   "cell_type": "code",
   "execution_count": 4,
   "metadata": {},
   "outputs": [
    {
     "data": {
      "text/plain": [
       "0    4545299712\n",
       "1    4545284264\n",
       "2    4545049730\n",
       "3    4545120580\n",
       "4    4544966065\n",
       "Name: gameId, dtype: int64"
      ]
     },
     "execution_count": 4,
     "metadata": {},
     "output_type": "execute_result"
    }
   ],
   "source": [
    "matches = pd.read_pickle(\"raw_data/match_ids.pkl\")\n",
    "matches.head()"
   ]
  }
 ],
 "metadata": {
  "kernelspec": {
   "display_name": "Python 3.8.3 64-bit ('ironhack': conda)",
   "language": "python",
   "name": "python38364bitironhackcondae22397c42f6b4fd29a9381c81ac70f68"
  },
  "language_info": {
   "codemirror_mode": {
    "name": "ipython",
    "version": 3
   },
   "file_extension": ".py",
   "mimetype": "text/x-python",
   "name": "python",
   "nbconvert_exporter": "python",
   "pygments_lexer": "ipython3",
   "version": "3.8.3"
  }
 },
 "nbformat": 4,
 "nbformat_minor": 4
}

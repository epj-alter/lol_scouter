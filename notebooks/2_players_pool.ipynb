{
 "cells": [
  {
   "cell_type": "markdown",
   "metadata": {},
   "source": [
    "# Players Pool Handler"
   ]
  },
  {
   "cell_type": "code",
   "execution_count": 6,
   "metadata": {},
   "outputs": [],
   "source": [
    "import time\n",
    "\n",
    "from itertools import chain\n",
    "\n",
    "import requests as req\n",
    "import pandas as pd\n",
    "import numpy as np\n",
    "\n",
    "from settings import TOKEN"
   ]
  },
  {
   "cell_type": "markdown",
   "metadata": {},
   "source": [
    "## 1. Master leagues"
   ]
  },
  {
   "cell_type": "code",
   "execution_count": 7,
   "metadata": {},
   "outputs": [],
   "source": [
    "def get_players_master():\n",
    "    container = []\n",
    "    leagues = [\n",
    "        \"challengerleagues\",\n",
    "        \"grandmasterleagues\",\n",
    "        \"masterleagues\"\n",
    "    ]\n",
    "    base_url = \"https://euw1.api.riotgames.com/lol/league/v4\"\n",
    "    for league in leagues:  \n",
    "        url = f\"{base_url}/{league}/by-queue/RANKED_SOLO_5x5?api_key={TOKEN}\"\n",
    "        res = req.get(url)\n",
    "        if res.status_code == 200:\n",
    "            container.append(res.json())\n",
    "        else:\n",
    "            print(f\"Something went wrong {res.status_code}\")\n",
    "            break\n",
    "    return container"
   ]
  },
  {
   "cell_type": "markdown",
   "metadata": {},
   "source": [
    "- Execute the function"
   ]
  },
  {
   "cell_type": "code",
   "execution_count": 3,
   "metadata": {},
   "outputs": [],
   "source": [
    "players_master = get_players_master()"
   ]
  },
  {
   "cell_type": "markdown",
   "metadata": {},
   "source": [
    "- We get an array of the top 3 leagues\n",
    "- Each league has its own number of entries which are the players\n",
    "- In the players object there is no \"tier\" attribute, we need to attacht it"
   ]
  },
  {
   "cell_type": "code",
   "execution_count": 4,
   "metadata": {},
   "outputs": [
    {
     "name": "stdout",
     "output_type": "stream",
     "text": [
      "dict_keys(['tier', 'leagueId', 'queue', 'name', 'entries'])\n"
     ]
    },
    {
     "data": {
      "text/plain": [
       "{'summonerId': 'QTnCkk_9K6l-FASK1MUNwQ-VSFi06VS96T91Sc95Hl_UfJc',\n",
       " 'summonerName': 'SK LlMIT',\n",
       " 'leaguePoints': 1066,\n",
       " 'rank': 'I',\n",
       " 'wins': 436,\n",
       " 'losses': 375,\n",
       " 'veteran': True,\n",
       " 'inactive': False,\n",
       " 'freshBlood': False,\n",
       " 'hotStreak': False}"
      ]
     },
     "execution_count": 4,
     "metadata": {},
     "output_type": "execute_result"
    }
   ],
   "source": [
    "print(players_master[0].keys())\n",
    "players_master[0][\"entries\"][0]"
   ]
  },
  {
   "cell_type": "markdown",
   "metadata": {},
   "source": [
    "- Attaching the tier to each entry"
   ]
  },
  {
   "cell_type": "code",
   "execution_count": 5,
   "metadata": {},
   "outputs": [],
   "source": [
    "for x in players_master:\n",
    "    for y in x[\"entries\"]:\n",
    "        y[\"tier\"] = x[\"tier\"]"
   ]
  },
  {
   "cell_type": "code",
   "execution_count": 6,
   "metadata": {},
   "outputs": [
    {
     "data": {
      "text/plain": [
       "{'summonerId': 'QTnCkk_9K6l-FASK1MUNwQ-VSFi06VS96T91Sc95Hl_UfJc',\n",
       " 'summonerName': 'SK LlMIT',\n",
       " 'leaguePoints': 1066,\n",
       " 'rank': 'I',\n",
       " 'wins': 436,\n",
       " 'losses': 375,\n",
       " 'veteran': True,\n",
       " 'inactive': False,\n",
       " 'freshBlood': False,\n",
       " 'hotStreak': False,\n",
       " 'tier': 'CHALLENGER'}"
      ]
     },
     "execution_count": 6,
     "metadata": {},
     "output_type": "execute_result"
    }
   ],
   "source": [
    "players_master[0][\"entries\"][0]"
   ]
  },
  {
   "cell_type": "markdown",
   "metadata": {},
   "source": [
    "- Now we want to flatten all leagues into one list because we already specified the league on each entry"
   ]
  },
  {
   "cell_type": "code",
   "execution_count": 7,
   "metadata": {},
   "outputs": [],
   "source": [
    "players_master = list(chain.from_iterable([x[\"entries\"] for x in players_master]))"
   ]
  },
  {
   "cell_type": "code",
   "execution_count": 8,
   "metadata": {},
   "outputs": [
    {
     "data": {
      "text/plain": [
       "2945"
      ]
     },
     "execution_count": 8,
     "metadata": {},
     "output_type": "execute_result"
    }
   ],
   "source": [
    "len(players_master)"
   ]
  },
  {
   "cell_type": "markdown",
   "metadata": {},
   "source": [
    "## 2. Student leagues (This time only Diamond + )\n",
    "\n",
    "- Each page gives us around 200 players\n",
    "- We should loop on a range and break the loop once the number of players retrieved is 0"
   ]
  },
  {
   "cell_type": "code",
   "execution_count": 31,
   "metadata": {},
   "outputs": [],
   "source": [
    "def get_players_student(queue: str, tiers: dict):\n",
    "    base_url = \"https://euw1.api.riotgames.com/lol/league/v4/entries\"\n",
    "    student_players = []\n",
    "    n_requests = 0\n",
    "    for tier in tiers:\n",
    "        for division in tiers[tier]:\n",
    "            pages = 0\n",
    "            while True:\n",
    "                # control the number of requests\n",
    "                if n_requests >= 100:\n",
    "                    print(f\"Number of Entries so far: {len(student_players)}\")\n",
    "                    n_requests = 0\n",
    "                    time.sleep(121)\n",
    "                pages += 1\n",
    "                url = f\"{base_url}/{queue}/{tier}/{division}?page={pages}&api_key={TOKEN}\"\n",
    "                res = req.get(url)\n",
    "                n_requests += 1\n",
    "                if res.status_code == 200:\n",
    "                    if len(res.json()) > 0:\n",
    "                        student_players.append(res.json())\n",
    "                    else:\n",
    "                        break\n",
    "                else:\n",
    "                    print(f\"Something went wrong {res.status_code}\")\n",
    "                    break\n",
    "                    \n",
    "    return student_players"
   ]
  },
  {
   "cell_type": "markdown",
   "metadata": {},
   "source": [
    "- Execute the function"
   ]
  },
  {
   "cell_type": "code",
   "execution_count": 34,
   "metadata": {},
   "outputs": [
    {
     "name": "stdout",
     "output_type": "stream",
     "text": [
      "Number of Entries so far: 98\n",
      "Number of Entries so far: 198\n"
     ]
    }
   ],
   "source": [
    "# first one is a lot of entries.\n",
    "#players_student = get_players_student(\"RANKED_SOLO_5x5\", {\"DIAMOND\": [\"I\", \"II\"], \"PLATINUM\": \"I\"})\n",
    "players_student = get_players_student(\"RANKED_SOLO_5x5\", {\"DIAMOND\": \"I\"})"
   ]
  },
  {
   "cell_type": "code",
   "execution_count": 36,
   "metadata": {},
   "outputs": [
    {
     "data": {
      "text/plain": [
       "250"
      ]
     },
     "execution_count": 36,
     "metadata": {},
     "output_type": "execute_result"
    }
   ],
   "source": [
    "len(players_student)"
   ]
  },
  {
   "cell_type": "markdown",
   "metadata": {},
   "source": [
    "- Now we want to flatten all the pages into one big list."
   ]
  },
  {
   "cell_type": "code",
   "execution_count": 37,
   "metadata": {},
   "outputs": [],
   "source": [
    "chained = list(chain.from_iterable(players_student))"
   ]
  },
  {
   "cell_type": "code",
   "execution_count": 40,
   "metadata": {},
   "outputs": [
    {
     "data": {
      "text/plain": [
       "{'leagueId': 'ade103fb-f7fb-4ca5-bbe1-c3a95b4a219f',\n",
       " 'queueType': 'RANKED_SOLO_5x5',\n",
       " 'tier': 'DIAMOND',\n",
       " 'rank': 'I',\n",
       " 'summonerId': 'rvTHik0BLi0tKf0oBNH1LB-MrXNHgTYTIJp_xM9Jl22xfFpp',\n",
       " 'summonerName': 'Meiran',\n",
       " 'leaguePoints': 90,\n",
       " 'wins': 200,\n",
       " 'losses': 187,\n",
       " 'veteran': False,\n",
       " 'inactive': False,\n",
       " 'freshBlood': False,\n",
       " 'hotStreak': True}"
      ]
     },
     "execution_count": 40,
     "metadata": {},
     "output_type": "execute_result"
    }
   ],
   "source": [
    "chained[0]"
   ]
  },
  {
   "cell_type": "code",
   "execution_count": 41,
   "metadata": {},
   "outputs": [
    {
     "data": {
      "text/plain": [
       "50927"
      ]
     },
     "execution_count": 41,
     "metadata": {},
     "output_type": "execute_result"
    }
   ],
   "source": [
    "len(chained)"
   ]
  },
  {
   "cell_type": "markdown",
   "metadata": {},
   "source": [
    "## 3. Give it a clean format and merge both lists\n",
    "\n",
    "### The important data points:\n",
    "\n",
    "- summonerId\n",
    "- summonerName\n",
    "- leaguePoints\n",
    "- rank\n",
    "- wins\n",
    "- losses\n",
    "- tier"
   ]
  },
  {
   "cell_type": "markdown",
   "metadata": {},
   "source": [
    "- Drop uncommon columns"
   ]
  },
  {
   "cell_type": "code",
   "execution_count": 15,
   "metadata": {},
   "outputs": [],
   "source": [
    "players_df = pd.DataFrame(players_student).drop(columns=[\"leagueId\", \"miniSeries\", \"queueType\"])"
   ]
  },
  {
   "cell_type": "code",
   "execution_count": 16,
   "metadata": {},
   "outputs": [
    {
     "data": {
      "text/plain": [
       "(5600, 11)"
      ]
     },
     "execution_count": 16,
     "metadata": {},
     "output_type": "execute_result"
    }
   ],
   "source": [
    "players_df.shape"
   ]
  },
  {
   "cell_type": "markdown",
   "metadata": {},
   "source": [
    "- Concatenate the data into one big player list"
   ]
  },
  {
   "cell_type": "code",
   "execution_count": 17,
   "metadata": {},
   "outputs": [],
   "source": [
    "players_df = pd.concat([players_df, pd.DataFrame(players_master)])"
   ]
  },
  {
   "cell_type": "markdown",
   "metadata": {},
   "source": [
    "## 4. Check the data"
   ]
  },
  {
   "cell_type": "code",
   "execution_count": 18,
   "metadata": {},
   "outputs": [
    {
     "name": "stdout",
     "output_type": "stream",
     "text": [
      "Columns: 11 Rows: 8545\n",
      "\n",
      "Number of duplcated rows: 135\n",
      "\n",
      "Null values per column:\n",
      "\n",
      "tier            0\n",
      "rank            0\n",
      "summonerId      0\n",
      "summonerName    0\n",
      "leaguePoints    0\n",
      "wins            0\n",
      "losses          0\n",
      "veteran         0\n",
      "inactive        0\n",
      "freshBlood      0\n",
      "hotStreak       0\n",
      "dtype: int64\n",
      "Data types:\n",
      "\n",
      "tier            object\n",
      "rank            object\n",
      "summonerId      object\n",
      "summonerName    object\n",
      "leaguePoints     int64\n",
      "wins             int64\n",
      "losses           int64\n",
      "veteran           bool\n",
      "inactive          bool\n",
      "freshBlood        bool\n",
      "hotStreak         bool\n",
      "dtype: object\n"
     ]
    }
   ],
   "source": [
    "print(f\"Columns: {players_df.shape[1]} Rows: {players_df.shape[0]}\\n\")\n",
    "print(f\"Number of duplcated rows: {players_df.duplicated().sum()}\\n\")\n",
    "print(\"Null values per column:\\n\")\n",
    "print(players_df.isna().sum())\n",
    "print(\"Data types:\\n\")\n",
    "print(players_df.dtypes)"
   ]
  },
  {
   "cell_type": "markdown",
   "metadata": {},
   "source": [
    "- Remove duplicated rows"
   ]
  },
  {
   "cell_type": "code",
   "execution_count": 19,
   "metadata": {},
   "outputs": [
    {
     "data": {
      "text/html": [
       "<div>\n",
       "<style scoped>\n",
       "    .dataframe tbody tr th:only-of-type {\n",
       "        vertical-align: middle;\n",
       "    }\n",
       "\n",
       "    .dataframe tbody tr th {\n",
       "        vertical-align: top;\n",
       "    }\n",
       "\n",
       "    .dataframe thead th {\n",
       "        text-align: right;\n",
       "    }\n",
       "</style>\n",
       "<table border=\"1\" class=\"dataframe\">\n",
       "  <thead>\n",
       "    <tr style=\"text-align: right;\">\n",
       "      <th></th>\n",
       "      <th>tier</th>\n",
       "      <th>rank</th>\n",
       "      <th>summonerId</th>\n",
       "      <th>summonerName</th>\n",
       "      <th>leaguePoints</th>\n",
       "      <th>wins</th>\n",
       "      <th>losses</th>\n",
       "      <th>veteran</th>\n",
       "      <th>inactive</th>\n",
       "      <th>freshBlood</th>\n",
       "      <th>hotStreak</th>\n",
       "    </tr>\n",
       "  </thead>\n",
       "  <tbody>\n",
       "    <tr>\n",
       "      <th>200</th>\n",
       "      <td>DIAMOND</td>\n",
       "      <td>I</td>\n",
       "      <td>vL_isz55-r376XwG2YK8avzmHmYN815ZuwxvohHxXM3PeVTS</td>\n",
       "      <td>Shacpai</td>\n",
       "      <td>0</td>\n",
       "      <td>368</td>\n",
       "      <td>347</td>\n",
       "      <td>False</td>\n",
       "      <td>False</td>\n",
       "      <td>False</td>\n",
       "      <td>False</td>\n",
       "    </tr>\n",
       "    <tr>\n",
       "      <th>205</th>\n",
       "      <td>DIAMOND</td>\n",
       "      <td>I</td>\n",
       "      <td>vL_isz55-r376XwG2YK8avzmHmYN815ZuwxvohHxXM3PeVTS</td>\n",
       "      <td>Shacpai</td>\n",
       "      <td>0</td>\n",
       "      <td>368</td>\n",
       "      <td>347</td>\n",
       "      <td>False</td>\n",
       "      <td>False</td>\n",
       "      <td>False</td>\n",
       "      <td>False</td>\n",
       "    </tr>\n",
       "  </tbody>\n",
       "</table>\n",
       "</div>"
      ],
      "text/plain": [
       "        tier rank                                        summonerId  \\\n",
       "200  DIAMOND    I  vL_isz55-r376XwG2YK8avzmHmYN815ZuwxvohHxXM3PeVTS   \n",
       "205  DIAMOND    I  vL_isz55-r376XwG2YK8avzmHmYN815ZuwxvohHxXM3PeVTS   \n",
       "\n",
       "    summonerName  leaguePoints  wins  losses  veteran  inactive  freshBlood  \\\n",
       "200      Shacpai             0   368     347    False     False       False   \n",
       "205      Shacpai             0   368     347    False     False       False   \n",
       "\n",
       "     hotStreak  \n",
       "200      False  \n",
       "205      False  "
      ]
     },
     "execution_count": 19,
     "metadata": {},
     "output_type": "execute_result"
    }
   ],
   "source": [
    "players_df.loc[players_df[\"summonerId\"] == \"vL_isz55-r376XwG2YK8avzmHmYN815ZuwxvohHxXM3PeVTS\"]"
   ]
  },
  {
   "cell_type": "code",
   "execution_count": 20,
   "metadata": {},
   "outputs": [],
   "source": [
    "players_df = players_df.drop_duplicates()"
   ]
  },
  {
   "cell_type": "code",
   "execution_count": 21,
   "metadata": {},
   "outputs": [
    {
     "name": "stdout",
     "output_type": "stream",
     "text": [
      "Columns: 11 Rows: 8410\n",
      "\n",
      "Number of duplcated rows: 0\n",
      "\n",
      "Null values per column:\n",
      "\n",
      "tier            0\n",
      "rank            0\n",
      "summonerId      0\n",
      "summonerName    0\n",
      "leaguePoints    0\n",
      "wins            0\n",
      "losses          0\n",
      "veteran         0\n",
      "inactive        0\n",
      "freshBlood      0\n",
      "hotStreak       0\n",
      "dtype: int64\n"
     ]
    }
   ],
   "source": [
    "print(f\"Columns: {players_df.shape[1]} Rows: {players_df.shape[0]}\\n\")\n",
    "print(f\"Number of duplcated rows: {players_df.duplicated().sum()}\\n\")\n",
    "print(\"Null values per column:\\n\")\n",
    "print(players_df.isna().sum())"
   ]
  },
  {
   "cell_type": "markdown",
   "metadata": {},
   "source": [
    "## 5. Drop useless columns\n",
    "\n",
    "- veteran\n",
    "- inactive\n",
    "- freshBlood\n",
    "- hotStreak"
   ]
  },
  {
   "cell_type": "code",
   "execution_count": 22,
   "metadata": {},
   "outputs": [],
   "source": [
    "players_df = players_df.drop(columns=[\"veteran\", \"inactive\", \"freshBlood\", \"hotStreak\"])"
   ]
  },
  {
   "cell_type": "code",
   "execution_count": 23,
   "metadata": {},
   "outputs": [
    {
     "data": {
      "text/html": [
       "<div>\n",
       "<style scoped>\n",
       "    .dataframe tbody tr th:only-of-type {\n",
       "        vertical-align: middle;\n",
       "    }\n",
       "\n",
       "    .dataframe tbody tr th {\n",
       "        vertical-align: top;\n",
       "    }\n",
       "\n",
       "    .dataframe thead th {\n",
       "        text-align: right;\n",
       "    }\n",
       "</style>\n",
       "<table border=\"1\" class=\"dataframe\">\n",
       "  <thead>\n",
       "    <tr style=\"text-align: right;\">\n",
       "      <th></th>\n",
       "      <th>tier</th>\n",
       "      <th>rank</th>\n",
       "      <th>summonerId</th>\n",
       "      <th>summonerName</th>\n",
       "      <th>leaguePoints</th>\n",
       "      <th>wins</th>\n",
       "      <th>losses</th>\n",
       "    </tr>\n",
       "  </thead>\n",
       "  <tbody>\n",
       "    <tr>\n",
       "      <th>0</th>\n",
       "      <td>DIAMOND</td>\n",
       "      <td>I</td>\n",
       "      <td>rvTHik0BLi0tKf0oBNH1LB-MrXNHgTYTIJp_xM9Jl22xfFpp</td>\n",
       "      <td>Meiran</td>\n",
       "      <td>90</td>\n",
       "      <td>200</td>\n",
       "      <td>187</td>\n",
       "    </tr>\n",
       "    <tr>\n",
       "      <th>1</th>\n",
       "      <td>DIAMOND</td>\n",
       "      <td>I</td>\n",
       "      <td>Q1MxBiPaWxpvLUOcHTyUTGIRLoOsQ0pPW2GXJpFzlShKg4J_</td>\n",
       "      <td>Preciöus</td>\n",
       "      <td>0</td>\n",
       "      <td>101</td>\n",
       "      <td>79</td>\n",
       "    </tr>\n",
       "    <tr>\n",
       "      <th>2</th>\n",
       "      <td>DIAMOND</td>\n",
       "      <td>I</td>\n",
       "      <td>UHd2YrByzhM458uxwF_sR5saxARizi-quOa-S30OmFH41Or8</td>\n",
       "      <td>ˆˇˇˆˇˇˆ</td>\n",
       "      <td>52</td>\n",
       "      <td>160</td>\n",
       "      <td>146</td>\n",
       "    </tr>\n",
       "    <tr>\n",
       "      <th>3</th>\n",
       "      <td>DIAMOND</td>\n",
       "      <td>I</td>\n",
       "      <td>JbkMW-xXj99fD7CesxP-4Q7HTbTVw_DjEAXhMuPMGqj1xEZt</td>\n",
       "      <td>Huskigodx</td>\n",
       "      <td>3</td>\n",
       "      <td>264</td>\n",
       "      <td>261</td>\n",
       "    </tr>\n",
       "    <tr>\n",
       "      <th>4</th>\n",
       "      <td>DIAMOND</td>\n",
       "      <td>I</td>\n",
       "      <td>2RiE8ql63iwtSSYQYA_f84PtrCX_js2FrAWlOJfI4Wm83uES</td>\n",
       "      <td>Ghiosu</td>\n",
       "      <td>30</td>\n",
       "      <td>448</td>\n",
       "      <td>434</td>\n",
       "    </tr>\n",
       "  </tbody>\n",
       "</table>\n",
       "</div>"
      ],
      "text/plain": [
       "      tier rank                                        summonerId  \\\n",
       "0  DIAMOND    I  rvTHik0BLi0tKf0oBNH1LB-MrXNHgTYTIJp_xM9Jl22xfFpp   \n",
       "1  DIAMOND    I  Q1MxBiPaWxpvLUOcHTyUTGIRLoOsQ0pPW2GXJpFzlShKg4J_   \n",
       "2  DIAMOND    I  UHd2YrByzhM458uxwF_sR5saxARizi-quOa-S30OmFH41Or8   \n",
       "3  DIAMOND    I  JbkMW-xXj99fD7CesxP-4Q7HTbTVw_DjEAXhMuPMGqj1xEZt   \n",
       "4  DIAMOND    I  2RiE8ql63iwtSSYQYA_f84PtrCX_js2FrAWlOJfI4Wm83uES   \n",
       "\n",
       "  summonerName  leaguePoints  wins  losses  \n",
       "0       Meiran            90   200     187  \n",
       "1    Preciöus              0   101      79  \n",
       "2      ˆˇˇˆˇˇˆ            52   160     146  \n",
       "3    Huskigodx             3   264     261  \n",
       "4       Ghiosu            30   448     434  "
      ]
     },
     "execution_count": 23,
     "metadata": {},
     "output_type": "execute_result"
    }
   ],
   "source": [
    "players_df.head()"
   ]
  },
  {
   "cell_type": "markdown",
   "metadata": {},
   "source": [
    "## 6. Export the data"
   ]
  },
  {
   "cell_type": "code",
   "execution_count": 25,
   "metadata": {},
   "outputs": [],
   "source": [
    "players_df.to_pickle(\"raw_data/players_pool.pkl\", protocol=4)"
   ]
  }
 ],
 "metadata": {
  "kernelspec": {
   "display_name": "Python 3.8.3 64-bit ('ironhack': conda)",
   "language": "python",
   "name": "python38364bitironhackcondae22397c42f6b4fd29a9381c81ac70f68"
  },
  "language_info": {
   "codemirror_mode": {
    "name": "ipython",
    "version": 3
   },
   "file_extension": ".py",
   "mimetype": "text/x-python",
   "name": "python",
   "nbconvert_exporter": "python",
   "pygments_lexer": "ipython3",
   "version": "3.8.3"
  }
 },
 "nbformat": 4,
 "nbformat_minor": 4
}

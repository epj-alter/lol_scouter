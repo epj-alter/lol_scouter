{
 "cells": [
  {
   "cell_type": "markdown",
   "metadata": {},
   "source": [
    "# Exploring Data from the API"
   ]
  },
  {
   "cell_type": "code",
   "execution_count": 70,
   "metadata": {},
   "outputs": [],
   "source": [
    "import pandas as pd\n",
    "import requests as req\n",
    "\n",
    "from settings import TOKEN"
   ]
  },
  {
   "cell_type": "code",
   "execution_count": 2,
   "metadata": {},
   "outputs": [],
   "source": [
    "HEADER = {\n",
    "    \"User-Agent\": \"Mozilla/5.0 (Windows NT 10.0; Win64; x64; rv:78.0) Gecko/20100101 Firefox/78.0\",\n",
    "    \"Accept-Language\": \"en-US;q=0.7,es-MX;q=0.3\",\n",
    "    \"Accept-Charset\": \"application/x-www-form-urlencoded; charset=UTF-8\",\n",
    "    \"Origin\": \"https://developer.riotgames.com\",\n",
    "    \"X-Riot-Token\": TOKEN\n",
    "    }"
   ]
  },
  {
   "cell_type": "markdown",
   "metadata": {},
   "source": [
    "## Get summoners per league"
   ]
  },
  {
   "cell_type": "code",
   "execution_count": 71,
   "metadata": {},
   "outputs": [],
   "source": [
    "def get_entries(queue: str, tier: str, division: str, pages: int):\n",
    "    \n",
    "    base_url = f\"https://euw1.api.riotgames.com/lol/league/v4/entries/{queue}/{tier}/{division}?page={pages}\" \n",
    "    #RANKED_SOLO_5x5/DIAMOND/I?page=1\"\n",
    "    res = req.get(base_url, headers=HEADER)\n",
    "    \n",
    "    return res.json()"
   ]
  },
  {
   "cell_type": "code",
   "execution_count": 4,
   "metadata": {},
   "outputs": [],
   "source": [
    "entries =  get_entries(\"RANKED_SOLO_5x5\", \"DIAMOND\", \"I\", 1)"
   ]
  },
  {
   "cell_type": "code",
   "execution_count": 47,
   "metadata": {},
   "outputs": [
    {
     "data": {
      "text/plain": [
       "{'leagueId': 'ade103fb-f7fb-4ca5-bbe1-c3a95b4a219f',\n",
       " 'queueType': 'RANKED_SOLO_5x5',\n",
       " 'tier': 'DIAMOND',\n",
       " 'rank': 'I',\n",
       " 'summonerId': 'rvTHik0BLi0tKf0oBNH1LB-MrXNHgTYTIJp_xM9Jl22xfFpp',\n",
       " 'summonerName': 'Meiran',\n",
       " 'leaguePoints': 90,\n",
       " 'wins': 200,\n",
       " 'losses': 187,\n",
       " 'veteran': False,\n",
       " 'inactive': False,\n",
       " 'freshBlood': False,\n",
       " 'hotStreak': True}"
      ]
     },
     "execution_count": 47,
     "metadata": {},
     "output_type": "execute_result"
    }
   ],
   "source": [
    "entries[0]"
   ]
  },
  {
   "cell_type": "markdown",
   "metadata": {},
   "source": [
    "### We are interested on the following columns\n",
    "\n",
    "- summonerId\n",
    "- summonerName\n",
    "- tier\n",
    "- rank\n",
    "- leaguePoints\n",
    "- wins\n",
    "- loses\n",
    "\n",
    "**summonerId** is useful to get extra account information"
   ]
  },
  {
   "cell_type": "markdown",
   "metadata": {},
   "source": [
    "## Get summoners account ids"
   ]
  },
  {
   "cell_type": "code",
   "execution_count": 72,
   "metadata": {},
   "outputs": [],
   "source": [
    "def get_acc_info(s_id: str):\n",
    "    \n",
    "    base_url = f\"https://euw1.api.riotgames.com/lol/summoner/v4/summoners/{s_id}\" \n",
    "    res = req.get(base_url, headers=HEADER)\n",
    "    \n",
    "    return res.json()"
   ]
  },
  {
   "cell_type": "code",
   "execution_count": 7,
   "metadata": {},
   "outputs": [],
   "source": [
    "acc_info = get_acc_info(entries[0][\"summonerId\"])"
   ]
  },
  {
   "cell_type": "code",
   "execution_count": 8,
   "metadata": {},
   "outputs": [
    {
     "data": {
      "text/plain": [
       "{'id': 'rvTHik0BLi0tKf0oBNH1LB-MrXNHgTYTIJp_xM9Jl22xfFpp',\n",
       " 'accountId': 'Xqb-V8M3R76oVcB07Xl9HIW1aQQtlFBdIc0SUN4QJMCvVpg',\n",
       " 'puuid': '7d4EK5NVYbakMY9VXZ6DSUWMkTp_eHYL3phhtSVPR5OkgqQBM0NrMM8iQej9Ka2fSDjRMR_4X3kggQ',\n",
       " 'name': 'Meiran',\n",
       " 'profileIconId': 4568,\n",
       " 'revisionDate': 1594471446000,\n",
       " 'summonerLevel': 229}"
      ]
     },
     "execution_count": 8,
     "metadata": {},
     "output_type": "execute_result"
    }
   ],
   "source": [
    "acc_info"
   ]
  },
  {
   "cell_type": "markdown",
   "metadata": {},
   "source": [
    "**accountId** is useful to get the player's match history"
   ]
  },
  {
   "cell_type": "markdown",
   "metadata": {},
   "source": [
    "## Get match history by summoner\n",
    "\n",
    "- needs accountId\n",
    "- needs queue id (420 for 5v5 Ranked Solo Games)\n",
    "- needs begin time and end time 1593561600 first of july\n",
    "- needs number of games (we multiply it by 100 to set the beginIndex)"
   ]
  },
  {
   "cell_type": "code",
   "execution_count": 73,
   "metadata": {},
   "outputs": [],
   "source": [
    "def get_matchlist(a_id: str, begin_time = 1593561600, queue_id = 420):\n",
    "    base_url = f\"https://euw1.api.riotgames.com/lol/match/v4/matchlists/by-account/{a_id}?queue={queue_id}\" \n",
    "    res = req.get(base_url, headers=HEADER)\n",
    "    \n",
    "    return res.json()"
   ]
  },
  {
   "cell_type": "code",
   "execution_count": 10,
   "metadata": {},
   "outputs": [],
   "source": [
    "matchlist = get_matchlist(\"Xqb-V8M3R76oVcB07Xl9HIW1aQQtlFBdIc0SUN4QJMCvVpg\")"
   ]
  },
  {
   "cell_type": "code",
   "execution_count": 11,
   "metadata": {},
   "outputs": [
    {
     "data": {
      "text/plain": [
       "{'platformId': 'EUW1',\n",
       " 'gameId': 4671787510,\n",
       " 'champion': 64,\n",
       " 'queue': 420,\n",
       " 'season': 13,\n",
       " 'timestamp': 1592764299945,\n",
       " 'role': 'NONE',\n",
       " 'lane': 'JUNGLE'}"
      ]
     },
     "execution_count": 11,
     "metadata": {},
     "output_type": "execute_result"
    }
   ],
   "source": [
    "matchlist[\"matches\"][0]"
   ]
  },
  {
   "cell_type": "markdown",
   "metadata": {},
   "source": [
    "**gameId** can be used to retrieve all the data from a specific match"
   ]
  },
  {
   "cell_type": "markdown",
   "metadata": {},
   "source": [
    "## Request match data with match id"
   ]
  },
  {
   "cell_type": "code",
   "execution_count": 74,
   "metadata": {},
   "outputs": [],
   "source": [
    "def get_match_data(m_id: str):\n",
    "    base_url = f\"https://euw1.api.riotgames.com/lol/match/v4/matches/{m_id}\" \n",
    "    res = req.get(base_url, headers=HEADER)\n",
    "    \n",
    "    return res.json()"
   ]
  },
  {
   "cell_type": "code",
   "execution_count": 13,
   "metadata": {},
   "outputs": [],
   "source": [
    "match = get_match_data(matchlist[\"matches\"][0][\"gameId\"])"
   ]
  },
  {
   "cell_type": "code",
   "execution_count": 49,
   "metadata": {},
   "outputs": [
    {
     "data": {
      "text/plain": [
       "dict_keys(['gameId', 'platformId', 'gameCreation', 'gameDuration', 'queueId', 'mapId', 'seasonId', 'gameVersion', 'gameMode', 'gameType', 'teams', 'participants', 'participantIdentities'])"
      ]
     },
     "execution_count": 49,
     "metadata": {},
     "output_type": "execute_result"
    }
   ],
   "source": [
    "match.keys()"
   ]
  },
  {
   "cell_type": "markdown",
   "metadata": {},
   "source": [
    "### The following keys are useful for us\n",
    "\n",
    "- gameId\n",
    "- participantIdentities\n",
    "    - player\n",
    "        - summonerId\n",
    "- participants\n",
    "    - stats\n",
    "    - timeline"
   ]
  },
  {
   "cell_type": "code",
   "execution_count": 62,
   "metadata": {},
   "outputs": [
    {
     "data": {
      "text/plain": [
       "dict_keys(['participantId', 'win', 'item0', 'item1', 'item2', 'item3', 'item4', 'item5', 'item6', 'kills', 'deaths', 'assists', 'largestKillingSpree', 'largestMultiKill', 'killingSprees', 'longestTimeSpentLiving', 'doubleKills', 'tripleKills', 'quadraKills', 'pentaKills', 'unrealKills', 'totalDamageDealt', 'magicDamageDealt', 'physicalDamageDealt', 'trueDamageDealt', 'largestCriticalStrike', 'totalDamageDealtToChampions', 'magicDamageDealtToChampions', 'physicalDamageDealtToChampions', 'trueDamageDealtToChampions', 'totalHeal', 'totalUnitsHealed', 'damageSelfMitigated', 'damageDealtToObjectives', 'damageDealtToTurrets', 'visionScore', 'timeCCingOthers', 'totalDamageTaken', 'magicalDamageTaken', 'physicalDamageTaken', 'trueDamageTaken', 'goldEarned', 'goldSpent', 'turretKills', 'inhibitorKills', 'totalMinionsKilled', 'neutralMinionsKilled', 'neutralMinionsKilledTeamJungle', 'neutralMinionsKilledEnemyJungle', 'totalTimeCrowdControlDealt', 'champLevel', 'visionWardsBoughtInGame', 'sightWardsBoughtInGame', 'wardsPlaced', 'wardsKilled', 'firstBloodKill', 'firstBloodAssist', 'firstTowerKill', 'firstTowerAssist', 'firstInhibitorKill', 'firstInhibitorAssist', 'combatPlayerScore', 'objectivePlayerScore', 'totalPlayerScore', 'totalScoreRank', 'playerScore0', 'playerScore1', 'playerScore2', 'playerScore3', 'playerScore4', 'playerScore5', 'playerScore6', 'playerScore7', 'playerScore8', 'playerScore9', 'perk0', 'perk0Var1', 'perk0Var2', 'perk0Var3', 'perk1', 'perk1Var1', 'perk1Var2', 'perk1Var3', 'perk2', 'perk2Var1', 'perk2Var2', 'perk2Var3', 'perk3', 'perk3Var1', 'perk3Var2', 'perk3Var3', 'perk4', 'perk4Var1', 'perk4Var2', 'perk4Var3', 'perk5', 'perk5Var1', 'perk5Var2', 'perk5Var3', 'perkPrimaryStyle', 'perkSubStyle', 'statPerk0', 'statPerk1', 'statPerk2'])"
      ]
     },
     "execution_count": 62,
     "metadata": {},
     "output_type": "execute_result"
    }
   ],
   "source": [
    "match[\"participants\"][0][\"stats\"].keys()"
   ]
  },
  {
   "cell_type": "code",
   "execution_count": 67,
   "metadata": {},
   "outputs": [
    {
     "data": {
      "text/plain": [
       "dict_keys(['platformId', 'accountId', 'summonerName', 'summonerId', 'currentPlatformId', 'currentAccountId', 'matchHistoryUri', 'profileIcon'])"
      ]
     },
     "execution_count": 67,
     "metadata": {},
     "output_type": "execute_result"
    }
   ],
   "source": [
    "match[\"participantIdentities\"][0][\"player\"].keys()"
   ]
  },
  {
   "cell_type": "markdown",
   "metadata": {},
   "source": [
    "### We need to drop unnecesary data in the stats columns"
   ]
  },
  {
   "cell_type": "code",
   "execution_count": 36,
   "metadata": {
    "scrolled": true
   },
   "outputs": [],
   "source": [
    "stats = pd.DataFrame([x[\"stats\"] for x in match[\"participants\"]])"
   ]
  },
  {
   "cell_type": "code",
   "execution_count": 38,
   "metadata": {},
   "outputs": [],
   "source": [
    "stats = stats.drop(columns=[ 'item0',\n",
    " 'item1',\n",
    " 'item2',\n",
    " 'item3',\n",
    " 'item4',\n",
    " 'item5','item6', \"unrealKills\" ,'combatPlayerScore',\n",
    " 'objectivePlayerScore',\n",
    " 'totalPlayerScore',\n",
    " 'totalScoreRank','playerScore0',\n",
    " 'playerScore1',\n",
    " 'playerScore2',\n",
    " 'playerScore3',\n",
    " 'playerScore4',\n",
    " 'playerScore5',\n",
    " 'playerScore6',\n",
    " 'playerScore7',\n",
    " 'playerScore8',\n",
    " 'playerScore9','perk0',\n",
    " 'perk0Var1',\n",
    " 'perk0Var2',\n",
    " 'perk0Var3',\n",
    " 'perk1',\n",
    " 'perk1Var1',\n",
    " 'perk1Var2',\n",
    " 'perk1Var3',\n",
    " 'perk2',\n",
    " 'perk2Var1',\n",
    " 'perk2Var2',\n",
    " 'perk2Var3',\n",
    " 'perk3',\n",
    " 'perk3Var1',\n",
    " 'perk3Var2',\n",
    " 'perk3Var3',\n",
    " 'perk4',\n",
    " 'perk4Var1',\n",
    " 'perk4Var2',\n",
    " 'perk4Var3',\n",
    " 'perk5',\n",
    " 'perk5Var1',\n",
    " 'perk5Var2',\n",
    " 'perk5Var3',\n",
    " 'perkPrimaryStyle',\n",
    " 'perkSubStyle',\n",
    " 'statPerk0',\n",
    " 'statPerk1',\n",
    " 'statPerk2'])"
   ]
  }
 ],
 "metadata": {
  "kernelspec": {
   "display_name": "Python 3.8.3 64-bit ('ironhack': conda)",
   "language": "python",
   "name": "python38364bitironhackcondae22397c42f6b4fd29a9381c81ac70f68"
  },
  "language_info": {
   "codemirror_mode": {
    "name": "ipython",
    "version": 3
   },
   "file_extension": ".py",
   "mimetype": "text/x-python",
   "name": "python",
   "nbconvert_exporter": "python",
   "pygments_lexer": "ipython3",
   "version": "3.8.3"
  }
 },
 "nbformat": 4,
 "nbformat_minor": 4
}

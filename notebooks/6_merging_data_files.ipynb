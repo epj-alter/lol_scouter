{
 "cells": [
  {
   "cell_type": "code",
   "execution_count": 1,
   "metadata": {},
   "outputs": [],
   "source": [
    "import os\n",
    "import numpy as np\n",
    "import pandas as pd"
   ]
  },
  {
   "cell_type": "code",
   "execution_count": 2,
   "metadata": {},
   "outputs": [],
   "source": [
    "path = \"../data/partial_files/\"\n",
    "elements_list = [\"players_info\", \"match_info\", \"players_lanes\", \"player_laning_stats\",\n",
    "                 \"player_flair_stats\", \"champion_bans\", \"champion_picks\",\n",
    "                 \"player_combat_stats\", \"player_objective_stats\", \"players_champions\"]\n",
    "files_list = os.listdir(path)"
   ]
  },
  {
   "cell_type": "markdown",
   "metadata": {},
   "source": [
    "# Concatenate the dataframes found for each element"
   ]
  },
  {
   "cell_type": "code",
   "execution_count": 3,
   "metadata": {},
   "outputs": [],
   "source": [
    "frames = {}\n",
    "for element in elements_list:\n",
    "    to_concat = []\n",
    "    for file in files_list:\n",
    "        if element in file:\n",
    "            to_concat.append(pd.read_pickle(path+file))\n",
    "    frames[element] = pd.concat(to_concat, ignore_index=True)"
   ]
  },
  {
   "cell_type": "markdown",
   "metadata": {},
   "source": [
    "# Check the data for duplicates or weird values"
   ]
  },
  {
   "cell_type": "code",
   "execution_count": 4,
   "metadata": {},
   "outputs": [
    {
     "output_type": "execute_result",
     "data": {
      "text/plain": "dict_keys(['players_info', 'match_info', 'players_lanes', 'player_laning_stats', 'player_flair_stats', 'champion_bans', 'champion_picks', 'player_combat_stats', 'player_objective_stats', 'players_champions'])"
     },
     "metadata": {},
     "execution_count": 4
    }
   ],
   "source": [
    "frames.keys()"
   ]
  },
  {
   "cell_type": "code",
   "execution_count": 5,
   "metadata": {},
   "outputs": [
    {
     "output_type": "execute_result",
     "data": {
      "text/plain": "0"
     },
     "metadata": {},
     "execution_count": 5
    }
   ],
   "source": [
    "frames[\"match_info\"].duplicated().sum()"
   ]
  },
  {
   "cell_type": "code",
   "execution_count": 6,
   "metadata": {},
   "outputs": [
    {
     "output_type": "execute_result",
     "data": {
      "text/plain": "52600"
     },
     "metadata": {},
     "execution_count": 6
    }
   ],
   "source": [
    "frames[\"players_info\"].duplicated().sum()"
   ]
  },
  {
   "cell_type": "code",
   "execution_count": 7,
   "metadata": {},
   "outputs": [
    {
     "output_type": "execute_result",
     "data": {
      "text/plain": "                                          account_id  champion  won\n0     5HoOasT7gDFHs3Gr431G2Bd-EN9TfKXrwW4HE11ilp2z4w       131    1\n1  ErnjL1gpip46VZJm3oI_t4V5nd7rcwOSm5Ti_gHAkNshj6...        64    1\n2    jMALkM1WqOXfJSeofHlzNPleWi_gqq3_X4_lp-BriQxDiCk        24    1\n3     VlmeMjfKi2sWiQVDyQ9rAeAZf90WT5OaEmUThGZUWU6EcQ       432    1\n4    w2R2-UMM6cwJy3F-fpiWDIq-Lat9bT6q_-J6HpZlOrIxTt8       236    1",
      "text/html": "<div>\n<style scoped>\n    .dataframe tbody tr th:only-of-type {\n        vertical-align: middle;\n    }\n\n    .dataframe tbody tr th {\n        vertical-align: top;\n    }\n\n    .dataframe thead th {\n        text-align: right;\n    }\n</style>\n<table border=\"1\" class=\"dataframe\">\n  <thead>\n    <tr style=\"text-align: right;\">\n      <th></th>\n      <th>account_id</th>\n      <th>champion</th>\n      <th>won</th>\n    </tr>\n  </thead>\n  <tbody>\n    <tr>\n      <th>0</th>\n      <td>5HoOasT7gDFHs3Gr431G2Bd-EN9TfKXrwW4HE11ilp2z4w</td>\n      <td>131</td>\n      <td>1</td>\n    </tr>\n    <tr>\n      <th>1</th>\n      <td>ErnjL1gpip46VZJm3oI_t4V5nd7rcwOSm5Ti_gHAkNshj6...</td>\n      <td>64</td>\n      <td>1</td>\n    </tr>\n    <tr>\n      <th>2</th>\n      <td>jMALkM1WqOXfJSeofHlzNPleWi_gqq3_X4_lp-BriQxDiCk</td>\n      <td>24</td>\n      <td>1</td>\n    </tr>\n    <tr>\n      <th>3</th>\n      <td>VlmeMjfKi2sWiQVDyQ9rAeAZf90WT5OaEmUThGZUWU6EcQ</td>\n      <td>432</td>\n      <td>1</td>\n    </tr>\n    <tr>\n      <th>4</th>\n      <td>w2R2-UMM6cwJy3F-fpiWDIq-Lat9bT6q_-J6HpZlOrIxTt8</td>\n      <td>236</td>\n      <td>1</td>\n    </tr>\n  </tbody>\n</table>\n</div>"
     },
     "metadata": {},
     "execution_count": 7
    }
   ],
   "source": [
    "frames[\"players_champions\"].head()"
   ]
  },
  {
   "cell_type": "code",
   "execution_count": 8,
   "metadata": {},
   "outputs": [
    {
     "output_type": "execute_result",
     "data": {
      "text/plain": "                                          account_id     lane  won\n0  7UTpYZvoj06Si113SIlBe-jyteHrh-XRaYzuYfXWentoKm...   JUNGLE    0\n1         fG8JDk5zVxKmoAMUqBIE8nbgMqzn8zuJrDJFPslxAg   BOTTOM    0\n2    Kc97-m0MqgpSk3DFoY17uq39_Roh9Qvi-xtoEFXPsMhEWPY  SUPPORT    0\n3  WmwA8a6PWVm1SkA3JWpID3CDFAbqxjrsU9f345u3_qR12c...   MIDDLE    0\n4        4NI6_UJFRWXe6swXbvsN9dQl6ORPjOfU1EA7ybGJjuc      TOP    0",
      "text/html": "<div>\n<style scoped>\n    .dataframe tbody tr th:only-of-type {\n        vertical-align: middle;\n    }\n\n    .dataframe tbody tr th {\n        vertical-align: top;\n    }\n\n    .dataframe thead th {\n        text-align: right;\n    }\n</style>\n<table border=\"1\" class=\"dataframe\">\n  <thead>\n    <tr style=\"text-align: right;\">\n      <th></th>\n      <th>account_id</th>\n      <th>lane</th>\n      <th>won</th>\n    </tr>\n  </thead>\n  <tbody>\n    <tr>\n      <th>0</th>\n      <td>7UTpYZvoj06Si113SIlBe-jyteHrh-XRaYzuYfXWentoKm...</td>\n      <td>JUNGLE</td>\n      <td>0</td>\n    </tr>\n    <tr>\n      <th>1</th>\n      <td>fG8JDk5zVxKmoAMUqBIE8nbgMqzn8zuJrDJFPslxAg</td>\n      <td>BOTTOM</td>\n      <td>0</td>\n    </tr>\n    <tr>\n      <th>2</th>\n      <td>Kc97-m0MqgpSk3DFoY17uq39_Roh9Qvi-xtoEFXPsMhEWPY</td>\n      <td>SUPPORT</td>\n      <td>0</td>\n    </tr>\n    <tr>\n      <th>3</th>\n      <td>WmwA8a6PWVm1SkA3JWpID3CDFAbqxjrsU9f345u3_qR12c...</td>\n      <td>MIDDLE</td>\n      <td>0</td>\n    </tr>\n    <tr>\n      <th>4</th>\n      <td>4NI6_UJFRWXe6swXbvsN9dQl6ORPjOfU1EA7ybGJjuc</td>\n      <td>TOP</td>\n      <td>0</td>\n    </tr>\n  </tbody>\n</table>\n</div>"
     },
     "metadata": {},
     "execution_count": 8
    }
   ],
   "source": [
    "frames[\"players_lanes\"].head()"
   ]
  },
  {
   "cell_type": "code",
   "execution_count": 9,
   "metadata": {},
   "outputs": [
    {
     "output_type": "execute_result",
     "data": {
      "text/plain": "0"
     },
     "metadata": {},
     "execution_count": 9
    }
   ],
   "source": [
    "frames[\"player_laning_stats\"].duplicated().sum()"
   ]
  },
  {
   "cell_type": "code",
   "execution_count": 10,
   "metadata": {},
   "outputs": [
    {
     "output_type": "execute_result",
     "data": {
      "text/plain": "0"
     },
     "metadata": {},
     "execution_count": 10
    }
   ],
   "source": [
    "frames[\"player_combat_stats\"].duplicated().sum()"
   ]
  },
  {
   "cell_type": "code",
   "execution_count": 11,
   "metadata": {},
   "outputs": [
    {
     "output_type": "execute_result",
     "data": {
      "text/plain": "0"
     },
     "metadata": {},
     "execution_count": 11
    }
   ],
   "source": [
    "frames[\"player_objective_stats\"].duplicated().sum()"
   ]
  },
  {
   "cell_type": "code",
   "execution_count": 12,
   "metadata": {},
   "outputs": [
    {
     "output_type": "execute_result",
     "data": {
      "text/plain": "0"
     },
     "metadata": {},
     "execution_count": 12
    }
   ],
   "source": [
    "frames[\"player_flair_stats\"].duplicated().sum()"
   ]
  },
  {
   "cell_type": "code",
   "execution_count": 13,
   "metadata": {},
   "outputs": [],
   "source": [
    "frames[\"champion_bans\"][\"champion\"] = frames[\"champion_bans\"][\"champion\"].replace(-1, \"no ban\")"
   ]
  },
  {
   "cell_type": "code",
   "execution_count": 14,
   "metadata": {},
   "outputs": [
    {
     "output_type": "execute_result",
     "data": {
      "text/plain": "0"
     },
     "metadata": {},
     "execution_count": 14
    }
   ],
   "source": [
    "frames[\"champion_picks\"].duplicated().sum()"
   ]
  },
  {
   "cell_type": "markdown",
   "metadata": {},
   "source": [
    "# Clean the data from duplicates and check dtypes and store the cleaned data to our data folder"
   ]
  },
  {
   "cell_type": "code",
   "execution_count": 15,
   "metadata": {},
   "outputs": [],
   "source": [
    "final_path = \"../data/\""
   ]
  },
  {
   "cell_type": "markdown",
   "metadata": {},
   "source": [
    "**players_info**"
   ]
  },
  {
   "cell_type": "code",
   "execution_count": 16,
   "metadata": {},
   "outputs": [
    {
     "output_type": "execute_result",
     "data": {
      "text/plain": "account_id     object\nsummoner_id    object\nregion         object\nname           object\ndtype: object"
     },
     "metadata": {},
     "execution_count": 16
    }
   ],
   "source": [
    "frames[\"players_info\"].dtypes"
   ]
  },
  {
   "cell_type": "code",
   "execution_count": 17,
   "metadata": {},
   "outputs": [],
   "source": [
    "frames[\"players_info\"] = frames[\"players_info\"].drop_duplicates()\n",
    "frames[\"players_info\"].to_csv(final_path+\"players_info.csv\", index=False)"
   ]
  },
  {
   "cell_type": "markdown",
   "metadata": {},
   "source": [
    "**match_info**"
   ]
  },
  {
   "cell_type": "code",
   "execution_count": 18,
   "metadata": {},
   "outputs": [],
   "source": [
    "frames[\"match_info\"].dtypes\n",
    "frames[\"match_info\"].to_csv(final_path+\"match_info.csv\", index=False)"
   ]
  },
  {
   "cell_type": "markdown",
   "metadata": {},
   "source": [
    "**champion_statistics**"
   ]
  },
  {
   "cell_type": "code",
   "execution_count": 19,
   "metadata": {},
   "outputs": [],
   "source": [
    "frames[\"champion_bans\"].to_csv(final_path+\"champion_bans.csv\", index=False)\n",
    "frames[\"champion_picks\"].to_csv(final_path+\"champion_picks.csv\", index=False)"
   ]
  },
  {
   "cell_type": "markdown",
   "metadata": {},
   "source": [
    "**player_statistics**"
   ]
  },
  {
   "cell_type": "code",
   "execution_count": 20,
   "metadata": {},
   "outputs": [],
   "source": [
    "frames[\"players_lanes\"].to_csv(final_path+\"player_lanes.csv\", index=False)\n",
    "frames[\"players_champions\"].to_csv(final_path+\"players_champions.csv\", index=False)\n",
    "\n",
    "# in game\n",
    "# drop duplicates\n",
    "frames[\"player_laning_stats\"] = frames[\"player_laning_stats\"].drop_duplicates()\n",
    "frames[\"player_combat_stats\"] = frames[\"player_combat_stats\"].drop_duplicates()\n",
    "frames[\"player_objective_stats\"] = frames[\"player_objective_stats\"].drop_duplicates()\n",
    "frames[\"player_flair_stats\"] = frames[\"player_flair_stats\"].drop_duplicates()\n",
    "\n",
    "\n",
    "# store files\n",
    "frames[\"player_laning_stats\"].to_csv(final_path+\"player_laning_stats.csv\", index=False)\n",
    "frames[\"player_combat_stats\"].to_csv(final_path+\"player_combat_stats.csv\", index=False)\n",
    "frames[\"player_objective_stats\"].to_csv(final_path+\"player_objective_stats.csv\", index=False)\n",
    "frames[\"player_flair_stats\"].to_csv(final_path+\"player_flair_stats.csv\", index=False)"
   ]
  },
  {
   "cell_type": "markdown",
   "metadata": {},
   "source": [
    "**Merge the data**"
   ]
  },
  {
   "cell_type": "code",
   "execution_count": 23,
   "metadata": {},
   "outputs": [
    {
     "output_type": "execute_result",
     "data": {
      "text/plain": "     match_id                                         account_id region  \\\n0  4671787510  7UTpYZvoj06Si113SIlBe-jyteHrh-XRaYzuYfXWentoKm...   EUW1   \n1  4671787510         fG8JDk5zVxKmoAMUqBIE8nbgMqzn8zuJrDJFPslxAg   EUW1   \n2  4671787510    Kc97-m0MqgpSk3DFoY17uq39_Roh9Qvi-xtoEFXPsMhEWPY   EUW1   \n3  4671787510  WmwA8a6PWVm1SkA3JWpID3CDFAbqxjrsU9f345u3_qR12c...   EUW1   \n4  4671787510        4NI6_UJFRWXe6swXbvsN9dQl6ORPjOfU1EA7ybGJjuc   EUW1   \n\n   champion     lane  xppm_10  cspm_10  goldpm_10  dmg_takenpm_10  won  ...  \\\n0        62   JUNGLE    267.3      0.5      261.4           654.3    0  ...   \n1       222   BOTTOM    342.6      6.9      345.3           243.3    0  ...   \n2       412  SUPPORT    274.1      1.1      289.8           311.0    0  ...   \n3       555   MIDDLE    359.4      4.3      341.8           618.7    0  ...   \n4        54      TOP    384.4      5.6      207.2           335.3    0  ...   \n\n   jungle_cs  jungle_invaded  wards_placed  wards_killed  killing_sprees  \\\n0       57.0             4.0           6.0           6.0               1   \n1       13.0             0.0           6.0           2.0               2   \n2        0.0             0.0          31.0           2.0               1   \n3        0.0             0.0           4.0           3.0               2   \n4        0.0             0.0           9.0           2.0               1   \n\n   longest_time_alive  double_kills  triple_kills  quadra_kills  penta_kills  \n0                 495             0             0             0            0  \n1                 475             0             0             0            0  \n2                 807             0             0             0            0  \n3                 358             0             0             0            0  \n4                 726             0             0             0            0  \n\n[5 rows x 31 columns]",
      "text/html": "<div>\n<style scoped>\n    .dataframe tbody tr th:only-of-type {\n        vertical-align: middle;\n    }\n\n    .dataframe tbody tr th {\n        vertical-align: top;\n    }\n\n    .dataframe thead th {\n        text-align: right;\n    }\n</style>\n<table border=\"1\" class=\"dataframe\">\n  <thead>\n    <tr style=\"text-align: right;\">\n      <th></th>\n      <th>match_id</th>\n      <th>account_id</th>\n      <th>region</th>\n      <th>champion</th>\n      <th>lane</th>\n      <th>xppm_10</th>\n      <th>cspm_10</th>\n      <th>goldpm_10</th>\n      <th>dmg_takenpm_10</th>\n      <th>won</th>\n      <th>...</th>\n      <th>jungle_cs</th>\n      <th>jungle_invaded</th>\n      <th>wards_placed</th>\n      <th>wards_killed</th>\n      <th>killing_sprees</th>\n      <th>longest_time_alive</th>\n      <th>double_kills</th>\n      <th>triple_kills</th>\n      <th>quadra_kills</th>\n      <th>penta_kills</th>\n    </tr>\n  </thead>\n  <tbody>\n    <tr>\n      <th>0</th>\n      <td>4671787510</td>\n      <td>7UTpYZvoj06Si113SIlBe-jyteHrh-XRaYzuYfXWentoKm...</td>\n      <td>EUW1</td>\n      <td>62</td>\n      <td>JUNGLE</td>\n      <td>267.3</td>\n      <td>0.5</td>\n      <td>261.4</td>\n      <td>654.3</td>\n      <td>0</td>\n      <td>...</td>\n      <td>57.0</td>\n      <td>4.0</td>\n      <td>6.0</td>\n      <td>6.0</td>\n      <td>1</td>\n      <td>495</td>\n      <td>0</td>\n      <td>0</td>\n      <td>0</td>\n      <td>0</td>\n    </tr>\n    <tr>\n      <th>1</th>\n      <td>4671787510</td>\n      <td>fG8JDk5zVxKmoAMUqBIE8nbgMqzn8zuJrDJFPslxAg</td>\n      <td>EUW1</td>\n      <td>222</td>\n      <td>BOTTOM</td>\n      <td>342.6</td>\n      <td>6.9</td>\n      <td>345.3</td>\n      <td>243.3</td>\n      <td>0</td>\n      <td>...</td>\n      <td>13.0</td>\n      <td>0.0</td>\n      <td>6.0</td>\n      <td>2.0</td>\n      <td>2</td>\n      <td>475</td>\n      <td>0</td>\n      <td>0</td>\n      <td>0</td>\n      <td>0</td>\n    </tr>\n    <tr>\n      <th>2</th>\n      <td>4671787510</td>\n      <td>Kc97-m0MqgpSk3DFoY17uq39_Roh9Qvi-xtoEFXPsMhEWPY</td>\n      <td>EUW1</td>\n      <td>412</td>\n      <td>SUPPORT</td>\n      <td>274.1</td>\n      <td>1.1</td>\n      <td>289.8</td>\n      <td>311.0</td>\n      <td>0</td>\n      <td>...</td>\n      <td>0.0</td>\n      <td>0.0</td>\n      <td>31.0</td>\n      <td>2.0</td>\n      <td>1</td>\n      <td>807</td>\n      <td>0</td>\n      <td>0</td>\n      <td>0</td>\n      <td>0</td>\n    </tr>\n    <tr>\n      <th>3</th>\n      <td>4671787510</td>\n      <td>WmwA8a6PWVm1SkA3JWpID3CDFAbqxjrsU9f345u3_qR12c...</td>\n      <td>EUW1</td>\n      <td>555</td>\n      <td>MIDDLE</td>\n      <td>359.4</td>\n      <td>4.3</td>\n      <td>341.8</td>\n      <td>618.7</td>\n      <td>0</td>\n      <td>...</td>\n      <td>0.0</td>\n      <td>0.0</td>\n      <td>4.0</td>\n      <td>3.0</td>\n      <td>2</td>\n      <td>358</td>\n      <td>0</td>\n      <td>0</td>\n      <td>0</td>\n      <td>0</td>\n    </tr>\n    <tr>\n      <th>4</th>\n      <td>4671787510</td>\n      <td>4NI6_UJFRWXe6swXbvsN9dQl6ORPjOfU1EA7ybGJjuc</td>\n      <td>EUW1</td>\n      <td>54</td>\n      <td>TOP</td>\n      <td>384.4</td>\n      <td>5.6</td>\n      <td>207.2</td>\n      <td>335.3</td>\n      <td>0</td>\n      <td>...</td>\n      <td>0.0</td>\n      <td>0.0</td>\n      <td>9.0</td>\n      <td>2.0</td>\n      <td>1</td>\n      <td>726</td>\n      <td>0</td>\n      <td>0</td>\n      <td>0</td>\n      <td>0</td>\n    </tr>\n  </tbody>\n</table>\n<p>5 rows × 31 columns</p>\n</div>"
     },
     "metadata": {},
     "execution_count": 23
    }
   ],
   "source": [
    "shared = [\"match_id\", \"account_id\", \"region\", \"champion\", \"lane\", \"won\"]\n",
    "\n",
    "complete_df = (pd.merge(frames[\"player_laning_stats\"], frames[\"player_combat_stats\"], on=shared, how=\"left\")\n",
    "                .merge(frames[\"player_objective_stats\"], on=shared, how=\"left\")\n",
    "                .merge(frames[\"player_flair_stats\"], on=shared, how=\"left\")\n",
    "                .fillna(0))\n",
    "complete_df.head()"
   ]
  },
  {
   "cell_type": "code",
   "execution_count": 24,
   "metadata": {},
   "outputs": [],
   "source": [
    "complete_df.to_pickle(\"../data/merged_stats.pkl\", protocol=4)"
   ]
  }
 ],
 "metadata": {
  "kernelspec": {
   "display_name": "Python 3.8.3 64-bit ('ironhack': conda)",
   "language": "python",
   "name": "python38364bitironhackcondae22397c42f6b4fd29a9381c81ac70f68"
  },
  "language_info": {
   "codemirror_mode": {
    "name": "ipython",
    "version": 3
   },
   "file_extension": ".py",
   "mimetype": "text/x-python",
   "name": "python",
   "nbconvert_exporter": "python",
   "pygments_lexer": "ipython3",
   "version": "3.8.3-final"
  }
 },
 "nbformat": 4,
 "nbformat_minor": 4
}